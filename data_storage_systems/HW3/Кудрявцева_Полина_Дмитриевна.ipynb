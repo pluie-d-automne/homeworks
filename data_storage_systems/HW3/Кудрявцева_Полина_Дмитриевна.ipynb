{
 "cells": [
  {
   "attachments": {},
   "cell_type": "markdown",
   "metadata": {},
   "source": [
    "# Домашнее задание 3\n",
    "### Выполнила: Кудрявцева Полина Дмитриевна"
   ]
  },
  {
   "cell_type": "code",
   "execution_count": 49,
   "metadata": {},
   "outputs": [],
   "source": [
    "# импорт библиотек\n",
    "import pandas as pd\n",
    "import sqlite3\n",
    "from datetime import datetime as dt"
   ]
  },
  {
   "attachments": {},
   "cell_type": "markdown",
   "metadata": {},
   "source": [
    "## Задача 1\n",
    "\n",
    "**Необходимо скачать CSV-файл - «transactions_for_dz2.csv», создать таблицу transaction_bd со всеми полями, загрузить данные из файла в таблицу.**\n",
    "\n",
    "**Также необходимо скачать второй CSV-файл - «client_info.csv», создать таблицу customer_bd со всеми полями, загрузить данные из файла в таблицу**\n",
    "\n"
   ]
  },
  {
   "cell_type": "code",
   "execution_count": 50,
   "metadata": {},
   "outputs": [
    {
     "data": {
      "text/html": [
       "<div>\n",
       "<style scoped>\n",
       "    .dataframe tbody tr th:only-of-type {\n",
       "        vertical-align: middle;\n",
       "    }\n",
       "\n",
       "    .dataframe tbody tr th {\n",
       "        vertical-align: top;\n",
       "    }\n",
       "\n",
       "    .dataframe thead th {\n",
       "        text-align: right;\n",
       "    }\n",
       "</style>\n",
       "<table border=\"1\" class=\"dataframe\">\n",
       "  <thead>\n",
       "    <tr style=\"text-align: right;\">\n",
       "      <th></th>\n",
       "      <th>TRANSACTION_ID</th>\n",
       "      <th>TX_DATETIME</th>\n",
       "      <th>CUSTOMER_ID</th>\n",
       "      <th>TERMINAL_ID</th>\n",
       "      <th>TX_AMOUNT</th>\n",
       "    </tr>\n",
       "  </thead>\n",
       "  <tbody>\n",
       "    <tr>\n",
       "      <th>0</th>\n",
       "      <td>0</td>\n",
       "      <td>2023-01-01 00:00:31</td>\n",
       "      <td>596</td>\n",
       "      <td>3156</td>\n",
       "      <td>533.07</td>\n",
       "    </tr>\n",
       "    <tr>\n",
       "      <th>1</th>\n",
       "      <td>1</td>\n",
       "      <td>2023-01-01 00:02:10</td>\n",
       "      <td>4961</td>\n",
       "      <td>3412</td>\n",
       "      <td>808.56</td>\n",
       "    </tr>\n",
       "    <tr>\n",
       "      <th>2</th>\n",
       "      <td>2</td>\n",
       "      <td>2023-01-01 00:07:56</td>\n",
       "      <td>2</td>\n",
       "      <td>1365</td>\n",
       "      <td>1442.94</td>\n",
       "    </tr>\n",
       "    <tr>\n",
       "      <th>3</th>\n",
       "      <td>3</td>\n",
       "      <td>2023-01-01 00:09:29</td>\n",
       "      <td>4128</td>\n",
       "      <td>8737</td>\n",
       "      <td>620.65</td>\n",
       "    </tr>\n",
       "    <tr>\n",
       "      <th>4</th>\n",
       "      <td>4</td>\n",
       "      <td>2023-01-01 00:10:34</td>\n",
       "      <td>927</td>\n",
       "      <td>9906</td>\n",
       "      <td>490.66</td>\n",
       "    </tr>\n",
       "  </tbody>\n",
       "</table>\n",
       "</div>"
      ],
      "text/plain": [
       "   TRANSACTION_ID          TX_DATETIME  CUSTOMER_ID  TERMINAL_ID  TX_AMOUNT\n",
       "0               0  2023-01-01 00:00:31          596         3156     533.07\n",
       "1               1  2023-01-01 00:02:10         4961         3412     808.56\n",
       "2               2  2023-01-01 00:07:56            2         1365    1442.94\n",
       "3               3  2023-01-01 00:09:29         4128         8737     620.65\n",
       "4               4  2023-01-01 00:10:34          927         9906     490.66"
      ]
     },
     "execution_count": 50,
     "metadata": {},
     "output_type": "execute_result"
    }
   ],
   "source": [
    "# Прочитаем данные из файлов и посмотрим на них\n",
    "transactions_df = pd.read_csv('./data/transactions_for_dz2.csv')\n",
    "transactions_df.head()"
   ]
  },
  {
   "cell_type": "code",
   "execution_count": 51,
   "metadata": {},
   "outputs": [
    {
     "name": "stdout",
     "output_type": "stream",
     "text": [
      "<class 'pandas.core.frame.DataFrame'>\n",
      "RangeIndex: 1048575 entries, 0 to 1048574\n",
      "Data columns (total 5 columns):\n",
      " #   Column          Non-Null Count    Dtype  \n",
      "---  ------          --------------    -----  \n",
      " 0   TRANSACTION_ID  1048575 non-null  int64  \n",
      " 1   TX_DATETIME     1048575 non-null  object \n",
      " 2   CUSTOMER_ID     1048575 non-null  int64  \n",
      " 3   TERMINAL_ID     1048575 non-null  int64  \n",
      " 4   TX_AMOUNT       1048575 non-null  float64\n",
      "dtypes: float64(1), int64(3), object(1)\n",
      "memory usage: 40.0+ MB\n"
     ]
    }
   ],
   "source": [
    "transactions_df.info()"
   ]
  },
  {
   "cell_type": "code",
   "execution_count": 52,
   "metadata": {},
   "outputs": [
    {
     "data": {
      "text/html": [
       "<div>\n",
       "<style scoped>\n",
       "    .dataframe tbody tr th:only-of-type {\n",
       "        vertical-align: middle;\n",
       "    }\n",
       "\n",
       "    .dataframe tbody tr th {\n",
       "        vertical-align: top;\n",
       "    }\n",
       "\n",
       "    .dataframe thead th {\n",
       "        text-align: right;\n",
       "    }\n",
       "</style>\n",
       "<table border=\"1\" class=\"dataframe\">\n",
       "  <thead>\n",
       "    <tr style=\"text-align: right;\">\n",
       "      <th></th>\n",
       "      <th>START_DT</th>\n",
       "      <th>END_DT</th>\n",
       "      <th>CLIENT_NAME</th>\n",
       "      <th>YEAR_BIRTH</th>\n",
       "      <th>CLIENT_ID</th>\n",
       "    </tr>\n",
       "  </thead>\n",
       "  <tbody>\n",
       "    <tr>\n",
       "      <th>0</th>\n",
       "      <td>2015-07-16</td>\n",
       "      <td>2021-01-01</td>\n",
       "      <td>Olivia</td>\n",
       "      <td>1979</td>\n",
       "      <td>2213</td>\n",
       "    </tr>\n",
       "    <tr>\n",
       "      <th>1</th>\n",
       "      <td>2015-07-17</td>\n",
       "      <td>2021-01-01</td>\n",
       "      <td>Emma</td>\n",
       "      <td>1979</td>\n",
       "      <td>1148</td>\n",
       "    </tr>\n",
       "    <tr>\n",
       "      <th>2</th>\n",
       "      <td>2015-07-18</td>\n",
       "      <td>2021-01-01</td>\n",
       "      <td>Charlotte</td>\n",
       "      <td>1979</td>\n",
       "      <td>2293</td>\n",
       "    </tr>\n",
       "    <tr>\n",
       "      <th>3</th>\n",
       "      <td>2015-07-19</td>\n",
       "      <td>2021-01-01</td>\n",
       "      <td>Amelia</td>\n",
       "      <td>1979</td>\n",
       "      <td>1867</td>\n",
       "    </tr>\n",
       "    <tr>\n",
       "      <th>4</th>\n",
       "      <td>2015-07-20</td>\n",
       "      <td>2021-01-01</td>\n",
       "      <td>Ava</td>\n",
       "      <td>1979</td>\n",
       "      <td>1767</td>\n",
       "    </tr>\n",
       "  </tbody>\n",
       "</table>\n",
       "</div>"
      ],
      "text/plain": [
       "     START_DT      END_DT CLIENT_NAME  YEAR_BIRTH  CLIENT_ID\n",
       "0  2015-07-16  2021-01-01      Olivia        1979       2213\n",
       "1  2015-07-17  2021-01-01        Emma        1979       1148\n",
       "2  2015-07-18  2021-01-01   Charlotte        1979       2293\n",
       "3  2015-07-19  2021-01-01      Amelia        1979       1867\n",
       "4  2015-07-20  2021-01-01         Ava        1979       1767"
      ]
     },
     "execution_count": 52,
     "metadata": {},
     "output_type": "execute_result"
    }
   ],
   "source": [
    "# Прочитаем данные из файлов и посмотрим на них\n",
    "clients_df = pd.read_csv('./data/client_info.csv', sep=';')\n",
    "clients_df.head()"
   ]
  },
  {
   "cell_type": "code",
   "execution_count": 53,
   "metadata": {},
   "outputs": [
    {
     "name": "stdout",
     "output_type": "stream",
     "text": [
      "<class 'pandas.core.frame.DataFrame'>\n",
      "RangeIndex: 4988 entries, 0 to 4987\n",
      "Data columns (total 5 columns):\n",
      " #   Column       Non-Null Count  Dtype \n",
      "---  ------       --------------  ----- \n",
      " 0   START_DT     4988 non-null   object\n",
      " 1   END_DT       4988 non-null   object\n",
      " 2   CLIENT_NAME  4988 non-null   object\n",
      " 3   YEAR_BIRTH   4988 non-null   int64 \n",
      " 4   CLIENT_ID    4988 non-null   int64 \n",
      "dtypes: int64(2), object(3)\n",
      "memory usage: 195.0+ KB\n"
     ]
    }
   ],
   "source": [
    "clients_df.info()"
   ]
  },
  {
   "cell_type": "code",
   "execution_count": 54,
   "metadata": {},
   "outputs": [],
   "source": [
    "# Подключимся (и при отсутствии создадим) к базе данных Transactions.db\n",
    "con = sqlite3.connect(\"./data/Transactions.db\")"
   ]
  },
  {
   "cell_type": "code",
   "execution_count": 55,
   "metadata": {},
   "outputs": [],
   "source": [
    "# Инициируем курсор\n",
    "cur = con.cursor()"
   ]
  },
  {
   "cell_type": "code",
   "execution_count": 56,
   "metadata": {},
   "outputs": [],
   "source": [
    "# Напишем SQL-запрос для создания таблиц transaction_bd и customer_bd со всеми полями из CSV файлов и выполним его\n",
    "create_transactuins = '''\n",
    "CREATE TABLE transaction_bd(\n",
    "    TRANSACTION_ID integer NOT NULL PRIMARY KEY,\n",
    "    TX_DATETIME datetime NOT NULL,\n",
    "    CUSTOMER_ID integer NOT NULL,\n",
    "    TERMINAL_ID integer NOT NULL,\n",
    "    TX_AMOUNT real NOT NULL\n",
    ");\n",
    "'''\n",
    "create_customers = '''\n",
    "CREATE TABLE customer_bd(\n",
    "    CLIENT_ID integer NOT NULL PRIMARY KEY,\n",
    "    CLIENT_NAME text NOT NULL,\n",
    "    YEAR_BIRTH integer NOT NULL,\n",
    "    START_DT datetime NOT NULL,\n",
    "    END_DT datetime NOT NULL\n",
    ");\n",
    "'''\n",
    "\n",
    "cur.execute(create_transactuins)\n",
    "cur.execute(create_customers)\n",
    "con.commit()"
   ]
  },
  {
   "cell_type": "code",
   "execution_count": 57,
   "metadata": {},
   "outputs": [
    {
     "data": {
      "text/plain": [
       "4988"
      ]
     },
     "execution_count": 57,
     "metadata": {},
     "output_type": "execute_result"
    }
   ],
   "source": [
    "# Запишем данные из датафреймов в таблицы\n",
    "transactions_df.to_sql(\"transaction_bd\", con, if_exists=\"replace\", index=False)\n",
    "clients_df.to_sql(\"customer_bd\", con, if_exists=\"replace\", index=False)"
   ]
  },
  {
   "attachments": {},
   "cell_type": "markdown",
   "metadata": {},
   "source": [
    "## Задача 2 - SQL-запросы к БД\n",
    "**a. Найти имя клиента/клиентов с максимальной суммой транзакций за весь период (клиент должен быть действующим, то есть дата закрытия записи о клиенте не должна быть меньше дня относительно которого мы считаемся).**"
   ]
  },
  {
   "cell_type": "code",
   "execution_count": 58,
   "metadata": {},
   "outputs": [
    {
     "data": {
      "text/html": [
       "<div>\n",
       "<style scoped>\n",
       "    .dataframe tbody tr th:only-of-type {\n",
       "        vertical-align: middle;\n",
       "    }\n",
       "\n",
       "    .dataframe tbody tr th {\n",
       "        vertical-align: top;\n",
       "    }\n",
       "\n",
       "    .dataframe thead th {\n",
       "        text-align: right;\n",
       "    }\n",
       "</style>\n",
       "<table border=\"1\" class=\"dataframe\">\n",
       "  <thead>\n",
       "    <tr style=\"text-align: right;\">\n",
       "      <th></th>\n",
       "      <th>CUSTOMER_ID</th>\n",
       "      <th>CLIENT_NAME</th>\n",
       "      <th>TOTAL_TX_AMOUNT</th>\n",
       "    </tr>\n",
       "  </thead>\n",
       "  <tbody>\n",
       "    <tr>\n",
       "      <th>0</th>\n",
       "      <td>2891</td>\n",
       "      <td>Kylee</td>\n",
       "      <td>786115.87</td>\n",
       "    </tr>\n",
       "  </tbody>\n",
       "</table>\n",
       "</div>"
      ],
      "text/plain": [
       "   CUSTOMER_ID CLIENT_NAME  TOTAL_TX_AMOUNT\n",
       "0         2891       Kylee        786115.87"
      ]
     },
     "execution_count": 58,
     "metadata": {},
     "output_type": "execute_result"
    }
   ],
   "source": [
    "current_dt = dt.strftime(dt.now(), '%Y-%m-%d')\n",
    "# Напишем SQL-запрос\n",
    "query_a = f'''\n",
    "WITH cte AS (\n",
    "SELECT t.CUSTOMER_ID, c.CLIENT_NAME, SUM(t.TX_AMOUNT) AS TOTAL_TX_AMOUNT\n",
    "FROM transaction_bd t\n",
    "JOIN customer_bd c ON c.CLIENT_ID = t.CUSTOMER_ID\n",
    "WHERE c.END_DT >= '{current_dt}'\n",
    "GROUP BY t.CUSTOMER_ID\n",
    ")\n",
    "SELECT CUSTOMER_ID, CLIENT_NAME, TOTAL_TX_AMOUNT\n",
    "FROM cte\n",
    "WHERE TOTAL_TX_AMOUNT = (SELECT MAX(TOTAL_TX_AMOUNT) FROM cte)\n",
    ";\n",
    "'''\n",
    "\n",
    "# Выгрузим результаты запроса в датафрейм и выведем первые 10 строк\n",
    "df_a = pd.read_sql(query_a, con)\n",
    "df_a.head(10)"
   ]
  },
  {
   "attachments": {},
   "cell_type": "markdown",
   "metadata": {},
   "source": [
    "**b. Найти имя клиента/клиентов с минимальной суммой транзакций за весь период (клиент должен быть действующим, то есть дата закрытия записи о клиенте не должна быть меньше дня относительно которого мы считаемся).** "
   ]
  },
  {
   "cell_type": "code",
   "execution_count": 59,
   "metadata": {},
   "outputs": [
    {
     "data": {
      "text/html": [
       "<div>\n",
       "<style scoped>\n",
       "    .dataframe tbody tr th:only-of-type {\n",
       "        vertical-align: middle;\n",
       "    }\n",
       "\n",
       "    .dataframe tbody tr th {\n",
       "        vertical-align: top;\n",
       "    }\n",
       "\n",
       "    .dataframe thead th {\n",
       "        text-align: right;\n",
       "    }\n",
       "</style>\n",
       "<table border=\"1\" class=\"dataframe\">\n",
       "  <thead>\n",
       "    <tr style=\"text-align: right;\">\n",
       "      <th></th>\n",
       "      <th>CUSTOMER_ID</th>\n",
       "      <th>CLIENT_NAME</th>\n",
       "      <th>TOTAL_TX_AMOUNT</th>\n",
       "    </tr>\n",
       "  </thead>\n",
       "  <tbody>\n",
       "    <tr>\n",
       "      <th>0</th>\n",
       "      <td>486</td>\n",
       "      <td>Kloe</td>\n",
       "      <td>30.48</td>\n",
       "    </tr>\n",
       "  </tbody>\n",
       "</table>\n",
       "</div>"
      ],
      "text/plain": [
       "   CUSTOMER_ID CLIENT_NAME  TOTAL_TX_AMOUNT\n",
       "0          486        Kloe            30.48"
      ]
     },
     "execution_count": 59,
     "metadata": {},
     "output_type": "execute_result"
    }
   ],
   "source": [
    "# Напишем SQL-запрос\n",
    "query_b = f'''\n",
    "WITH cte AS (\n",
    "SELECT t.CUSTOMER_ID, c.CLIENT_NAME, SUM(t.TX_AMOUNT) AS TOTAL_TX_AMOUNT\n",
    "FROM transaction_bd t\n",
    "JOIN customer_bd c ON c.CLIENT_ID = t.CUSTOMER_ID\n",
    "WHERE c.END_DT >= '{current_dt}'\n",
    "GROUP BY t.CUSTOMER_ID\n",
    ")\n",
    "SELECT CUSTOMER_ID, CLIENT_NAME, TOTAL_TX_AMOUNT\n",
    "FROM cte\n",
    "WHERE TOTAL_TX_AMOUNT = (SELECT MIN(TOTAL_TX_AMOUNT) FROM cte)\n",
    ";\n",
    "'''\n",
    "\n",
    "# Выгрузим результаты запроса в датафрейм и выведем первые 10 строк\n",
    "df_b = pd.read_sql(query_b, con)\n",
    "df_b.head(10)"
   ]
  },
  {
   "attachments": {},
   "cell_type": "markdown",
   "metadata": {},
   "source": [
    "**c. Найти сумму транзакций относительно даты 2023-04-01 для клиентов, у которых id начинается с 111 (клиент должен быть действующим, то есть дата закрытия записи о клиенте не должна быть меньше дня относительно которого мы считаемся). Транзакции учитываются только после завершении дня.**"
   ]
  },
  {
   "cell_type": "code",
   "execution_count": 60,
   "metadata": {},
   "outputs": [
    {
     "data": {
      "text/html": [
       "<div>\n",
       "<style scoped>\n",
       "    .dataframe tbody tr th:only-of-type {\n",
       "        vertical-align: middle;\n",
       "    }\n",
       "\n",
       "    .dataframe tbody tr th {\n",
       "        vertical-align: top;\n",
       "    }\n",
       "\n",
       "    .dataframe thead th {\n",
       "        text-align: right;\n",
       "    }\n",
       "</style>\n",
       "<table border=\"1\" class=\"dataframe\">\n",
       "  <thead>\n",
       "    <tr style=\"text-align: right;\">\n",
       "      <th></th>\n",
       "      <th>CUSTOMER_ID</th>\n",
       "      <th>TOTAL_TX_AMOUNT</th>\n",
       "    </tr>\n",
       "  </thead>\n",
       "  <tbody>\n",
       "    <tr>\n",
       "      <th>0</th>\n",
       "      <td>1118</td>\n",
       "      <td>353003.39</td>\n",
       "    </tr>\n",
       "    <tr>\n",
       "      <th>1</th>\n",
       "      <td>1113</td>\n",
       "      <td>229558.85</td>\n",
       "    </tr>\n",
       "    <tr>\n",
       "      <th>2</th>\n",
       "      <td>1119</td>\n",
       "      <td>221192.71</td>\n",
       "    </tr>\n",
       "    <tr>\n",
       "      <th>3</th>\n",
       "      <td>1116</td>\n",
       "      <td>191203.59</td>\n",
       "    </tr>\n",
       "    <tr>\n",
       "      <th>4</th>\n",
       "      <td>1114</td>\n",
       "      <td>108622.52</td>\n",
       "    </tr>\n",
       "    <tr>\n",
       "      <th>5</th>\n",
       "      <td>1117</td>\n",
       "      <td>52751.58</td>\n",
       "    </tr>\n",
       "    <tr>\n",
       "      <th>6</th>\n",
       "      <td>1115</td>\n",
       "      <td>38690.76</td>\n",
       "    </tr>\n",
       "    <tr>\n",
       "      <th>7</th>\n",
       "      <td>1112</td>\n",
       "      <td>35273.16</td>\n",
       "    </tr>\n",
       "  </tbody>\n",
       "</table>\n",
       "</div>"
      ],
      "text/plain": [
       "   CUSTOMER_ID  TOTAL_TX_AMOUNT\n",
       "0         1118        353003.39\n",
       "1         1113        229558.85\n",
       "2         1119        221192.71\n",
       "3         1116        191203.59\n",
       "4         1114        108622.52\n",
       "5         1117         52751.58\n",
       "6         1115         38690.76\n",
       "7         1112         35273.16"
      ]
     },
     "execution_count": 60,
     "metadata": {},
     "output_type": "execute_result"
    }
   ],
   "source": [
    "# Напишем SQL-запрос\n",
    "query_c = '''\n",
    "SELECT t.CUSTOMER_ID, SUM(t.TX_AMOUNT) AS TOTAL_TX_AMOUNT\n",
    "FROM transaction_bd t\n",
    "JOIN customer_bd c ON c.CLIENT_ID = t.CUSTOMER_ID\n",
    "WHERE c.END_DT >= '2023-04-01'\n",
    "    AND SUBSTRING(CAST(t.CUSTOMER_ID as varchar), 1, 3) = '111'\n",
    "    AND t.TX_DATETIME < '2023-04-01'\n",
    "GROUP BY t.CUSTOMER_ID\n",
    "ORDER BY TOTAL_TX_AMOUNT DESC;\n",
    "'''\n",
    "\n",
    "# Выгрузим результаты запроса в датафрейм и выведем первые 10 строк\n",
    "df_c = pd.read_sql(query_c, con)\n",
    "df_c.head(10)"
   ]
  },
  {
   "attachments": {},
   "cell_type": "markdown",
   "metadata": {},
   "source": [
    "**d. Найти сумму транзакций относительно года рождения клиентов (клиент должен быть действующим, то есть дата закрытия записи о клиенте не должна быть меньше дня относительно которого мы считаемся). Сортировать по убыванию года рождения**"
   ]
  },
  {
   "cell_type": "code",
   "execution_count": 61,
   "metadata": {},
   "outputs": [
    {
     "data": {
      "text/html": [
       "<div>\n",
       "<style scoped>\n",
       "    .dataframe tbody tr th:only-of-type {\n",
       "        vertical-align: middle;\n",
       "    }\n",
       "\n",
       "    .dataframe tbody tr th {\n",
       "        vertical-align: top;\n",
       "    }\n",
       "\n",
       "    .dataframe thead th {\n",
       "        text-align: right;\n",
       "    }\n",
       "</style>\n",
       "<table border=\"1\" class=\"dataframe\">\n",
       "  <thead>\n",
       "    <tr style=\"text-align: right;\">\n",
       "      <th></th>\n",
       "      <th>YEAR_BIRTH</th>\n",
       "      <th>TOTAL_TX_AMOUNT</th>\n",
       "    </tr>\n",
       "  </thead>\n",
       "  <tbody>\n",
       "    <tr>\n",
       "      <th>0</th>\n",
       "      <td>2000</td>\n",
       "      <td>8.780862e+07</td>\n",
       "    </tr>\n",
       "    <tr>\n",
       "      <th>1</th>\n",
       "      <td>1999</td>\n",
       "      <td>1.041507e+06</td>\n",
       "    </tr>\n",
       "    <tr>\n",
       "      <th>2</th>\n",
       "      <td>1998</td>\n",
       "      <td>4.348492e+06</td>\n",
       "    </tr>\n",
       "    <tr>\n",
       "      <th>3</th>\n",
       "      <td>1997</td>\n",
       "      <td>8.479943e+06</td>\n",
       "    </tr>\n",
       "    <tr>\n",
       "      <th>4</th>\n",
       "      <td>1996</td>\n",
       "      <td>6.457570e+06</td>\n",
       "    </tr>\n",
       "    <tr>\n",
       "      <th>5</th>\n",
       "      <td>1995</td>\n",
       "      <td>6.321200e+06</td>\n",
       "    </tr>\n",
       "    <tr>\n",
       "      <th>6</th>\n",
       "      <td>1994</td>\n",
       "      <td>6.244281e+06</td>\n",
       "    </tr>\n",
       "    <tr>\n",
       "      <th>7</th>\n",
       "      <td>1993</td>\n",
       "      <td>5.732058e+06</td>\n",
       "    </tr>\n",
       "    <tr>\n",
       "      <th>8</th>\n",
       "      <td>1992</td>\n",
       "      <td>5.251433e+06</td>\n",
       "    </tr>\n",
       "    <tr>\n",
       "      <th>9</th>\n",
       "      <td>1991</td>\n",
       "      <td>7.141074e+06</td>\n",
       "    </tr>\n",
       "  </tbody>\n",
       "</table>\n",
       "</div>"
      ],
      "text/plain": [
       "   YEAR_BIRTH  TOTAL_TX_AMOUNT\n",
       "0        2000     8.780862e+07\n",
       "1        1999     1.041507e+06\n",
       "2        1998     4.348492e+06\n",
       "3        1997     8.479943e+06\n",
       "4        1996     6.457570e+06\n",
       "5        1995     6.321200e+06\n",
       "6        1994     6.244281e+06\n",
       "7        1993     5.732058e+06\n",
       "8        1992     5.251433e+06\n",
       "9        1991     7.141074e+06"
      ]
     },
     "execution_count": 61,
     "metadata": {},
     "output_type": "execute_result"
    }
   ],
   "source": [
    "# Напишем SQL-запрос\n",
    "query_c = f'''\n",
    "SELECT c.YEAR_BIRTH, SUM(t.TX_AMOUNT) AS TOTAL_TX_AMOUNT\n",
    "FROM transaction_bd t\n",
    "JOIN customer_bd c ON c.CLIENT_ID = t.CUSTOMER_ID\n",
    "WHERE c.END_DT >= '{current_dt}'\n",
    "GROUP BY c.YEAR_BIRTH\n",
    "ORDER BY YEAR_BIRTH DESC;\n",
    "'''\n",
    "\n",
    "# Выгрузим результаты запроса в датафрейм и выведем первые 10 строк\n",
    "df_c = pd.read_sql(query_c, con)\n",
    "df_c.head(10)"
   ]
  },
  {
   "attachments": {},
   "cell_type": "markdown",
   "metadata": {},
   "source": [
    "**e. Найти количество транзакций для каждого клиента (клиент должен быть действующим, то есть дата закрытия записи о клиенте не должна быть меньше дня относительно которого мы считаемся). Сортировать по убыванию количества транзакций.**"
   ]
  },
  {
   "cell_type": "code",
   "execution_count": 62,
   "metadata": {},
   "outputs": [
    {
     "data": {
      "text/html": [
       "<div>\n",
       "<style scoped>\n",
       "    .dataframe tbody tr th:only-of-type {\n",
       "        vertical-align: middle;\n",
       "    }\n",
       "\n",
       "    .dataframe tbody tr th {\n",
       "        vertical-align: top;\n",
       "    }\n",
       "\n",
       "    .dataframe thead th {\n",
       "        text-align: right;\n",
       "    }\n",
       "</style>\n",
       "<table border=\"1\" class=\"dataframe\">\n",
       "  <thead>\n",
       "    <tr style=\"text-align: right;\">\n",
       "      <th></th>\n",
       "      <th>CUSTOMER_ID</th>\n",
       "      <th>TRANSACTION_CNT</th>\n",
       "    </tr>\n",
       "  </thead>\n",
       "  <tbody>\n",
       "    <tr>\n",
       "      <th>0</th>\n",
       "      <td>2891</td>\n",
       "      <td>477</td>\n",
       "    </tr>\n",
       "    <tr>\n",
       "      <th>1</th>\n",
       "      <td>2580</td>\n",
       "      <td>464</td>\n",
       "    </tr>\n",
       "    <tr>\n",
       "      <th>2</th>\n",
       "      <td>1953</td>\n",
       "      <td>455</td>\n",
       "    </tr>\n",
       "    <tr>\n",
       "      <th>3</th>\n",
       "      <td>2932</td>\n",
       "      <td>454</td>\n",
       "    </tr>\n",
       "    <tr>\n",
       "      <th>4</th>\n",
       "      <td>3864</td>\n",
       "      <td>453</td>\n",
       "    </tr>\n",
       "    <tr>\n",
       "      <th>5</th>\n",
       "      <td>1246</td>\n",
       "      <td>453</td>\n",
       "    </tr>\n",
       "    <tr>\n",
       "      <th>6</th>\n",
       "      <td>2470</td>\n",
       "      <td>452</td>\n",
       "    </tr>\n",
       "    <tr>\n",
       "      <th>7</th>\n",
       "      <td>4231</td>\n",
       "      <td>451</td>\n",
       "    </tr>\n",
       "    <tr>\n",
       "      <th>8</th>\n",
       "      <td>1906</td>\n",
       "      <td>451</td>\n",
       "    </tr>\n",
       "    <tr>\n",
       "      <th>9</th>\n",
       "      <td>379</td>\n",
       "      <td>451</td>\n",
       "    </tr>\n",
       "  </tbody>\n",
       "</table>\n",
       "</div>"
      ],
      "text/plain": [
       "   CUSTOMER_ID  TRANSACTION_CNT\n",
       "0         2891              477\n",
       "1         2580              464\n",
       "2         1953              455\n",
       "3         2932              454\n",
       "4         3864              453\n",
       "5         1246              453\n",
       "6         2470              452\n",
       "7         4231              451\n",
       "8         1906              451\n",
       "9          379              451"
      ]
     },
     "execution_count": 62,
     "metadata": {},
     "output_type": "execute_result"
    }
   ],
   "source": [
    "# Напишем SQL-запрос\n",
    "query_e = f'''\n",
    "SELECT t.CUSTOMER_ID, COUNT(DISTINCT t.TRANSACTION_ID) AS TRANSACTION_CNT\n",
    "FROM transaction_bd t\n",
    "JOIN customer_bd c ON c.CLIENT_ID = t.CUSTOMER_ID\n",
    "WHERE c.END_DT >= '{current_dt}'\n",
    "GROUP BY t.CUSTOMER_ID\n",
    "ORDER BY TRANSACTION_CNT DESC\n",
    ";\n",
    "'''\n",
    "\n",
    "# Выгрузим результаты запроса в датафрейм и выведем первые 10 строк\n",
    "df_e = pd.read_sql(query_e, con)\n",
    "df_e.head(10)"
   ]
  },
  {
   "attachments": {},
   "cell_type": "markdown",
   "metadata": {},
   "source": [
    "## Задача 3\n",
    "**Найти сумму транзакций за каждый месяц (январь, февраль, март, апрель) для всех клиентов (клиент должен быть действующим, то есть дата закрытия записи о клиенте не должна быть меньше дня относительно которого мы считаемся).**"
   ]
  },
  {
   "cell_type": "code",
   "execution_count": 63,
   "metadata": {},
   "outputs": [
    {
     "data": {
      "text/html": [
       "<div>\n",
       "<style scoped>\n",
       "    .dataframe tbody tr th:only-of-type {\n",
       "        vertical-align: middle;\n",
       "    }\n",
       "\n",
       "    .dataframe tbody tr th {\n",
       "        vertical-align: top;\n",
       "    }\n",
       "\n",
       "    .dataframe thead th {\n",
       "        text-align: right;\n",
       "    }\n",
       "</style>\n",
       "<table border=\"1\" class=\"dataframe\">\n",
       "  <thead>\n",
       "    <tr style=\"text-align: right;\">\n",
       "      <th></th>\n",
       "      <th>month</th>\n",
       "      <th>TOTAL_TX_AMOUNT</th>\n",
       "    </tr>\n",
       "  </thead>\n",
       "  <tbody>\n",
       "    <tr>\n",
       "      <th>0</th>\n",
       "      <td>2023-01</td>\n",
       "      <td>1.275552e+08</td>\n",
       "    </tr>\n",
       "    <tr>\n",
       "      <th>1</th>\n",
       "      <td>2023-02</td>\n",
       "      <td>1.179362e+08</td>\n",
       "    </tr>\n",
       "    <tr>\n",
       "      <th>2</th>\n",
       "      <td>2023-03</td>\n",
       "      <td>1.273077e+08</td>\n",
       "    </tr>\n",
       "    <tr>\n",
       "      <th>3</th>\n",
       "      <td>2023-04</td>\n",
       "      <td>8.018857e+07</td>\n",
       "    </tr>\n",
       "  </tbody>\n",
       "</table>\n",
       "</div>"
      ],
      "text/plain": [
       "     month  TOTAL_TX_AMOUNT\n",
       "0  2023-01     1.275552e+08\n",
       "1  2023-02     1.179362e+08\n",
       "2  2023-03     1.273077e+08\n",
       "3  2023-04     8.018857e+07"
      ]
     },
     "execution_count": 63,
     "metadata": {},
     "output_type": "execute_result"
    }
   ],
   "source": [
    "# Напишем SQL-запрос\n",
    "query_f = f'''\n",
    "SELECT strftime('%Y-%m', t.TX_DATETIME) as \"month\", SUM(t.TX_AMOUNT) AS TOTAL_TX_AMOUNT\n",
    "FROM transaction_bd t\n",
    "JOIN customer_bd c ON c.CLIENT_ID = t.CUSTOMER_ID\n",
    "WHERE c.END_DT >= '{current_dt}'\n",
    "GROUP BY  \"month\"\n",
    "ORDER BY  \"month\";\n",
    "'''\n",
    "\n",
    "# Выгрузим результаты запроса в датафрейм и выведем первые 10 строк\n",
    "df_f = pd.read_sql(query_f, con)\n",
    "df_f.head(10)"
   ]
  },
  {
   "cell_type": "code",
   "execution_count": 64,
   "metadata": {},
   "outputs": [],
   "source": [
    "# Закроем подключение к БД\n",
    "con.close()"
   ]
  }
 ],
 "metadata": {
  "kernelspec": {
   "display_name": "Python 3",
   "language": "python",
   "name": "python3"
  },
  "language_info": {
   "codemirror_mode": {
    "name": "ipython",
    "version": 3
   },
   "file_extension": ".py",
   "mimetype": "text/x-python",
   "name": "python",
   "nbconvert_exporter": "python",
   "pygments_lexer": "ipython3",
   "version": "3.10.5"
  },
  "orig_nbformat": 4
 },
 "nbformat": 4,
 "nbformat_minor": 2
}
