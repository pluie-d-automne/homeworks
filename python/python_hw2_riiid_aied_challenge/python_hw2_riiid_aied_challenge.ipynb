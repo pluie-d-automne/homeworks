{
 "cells": [
  {
   "cell_type": "code",
   "execution_count": 78,
   "id": "ccfbe7c8",
   "metadata": {},
   "outputs": [],
   "source": [
    "import pandas as pd\n",
    "from matplotlib import pyplot as plt\n",
    "import numpy as np\n",
    "import seaborn as sns"
   ]
  },
  {
   "cell_type": "markdown",
   "id": "34b4591d",
   "metadata": {},
   "source": [
    "## Первые строки таблиц и значение атрибутов"
   ]
  },
  {
   "cell_type": "code",
   "execution_count": 2,
   "id": "42ddfa20",
   "metadata": {},
   "outputs": [
    {
     "data": {
      "text/html": [
       "<div>\n",
       "<style scoped>\n",
       "    .dataframe tbody tr th:only-of-type {\n",
       "        vertical-align: middle;\n",
       "    }\n",
       "\n",
       "    .dataframe tbody tr th {\n",
       "        vertical-align: top;\n",
       "    }\n",
       "\n",
       "    .dataframe thead th {\n",
       "        text-align: right;\n",
       "    }\n",
       "</style>\n",
       "<table border=\"1\" class=\"dataframe\">\n",
       "  <thead>\n",
       "    <tr style=\"text-align: right;\">\n",
       "      <th></th>\n",
       "      <th>lecture_id</th>\n",
       "      <th>tag</th>\n",
       "      <th>part</th>\n",
       "      <th>type_of</th>\n",
       "    </tr>\n",
       "  </thead>\n",
       "  <tbody>\n",
       "    <tr>\n",
       "      <th>0</th>\n",
       "      <td>89</td>\n",
       "      <td>159</td>\n",
       "      <td>5</td>\n",
       "      <td>concept</td>\n",
       "    </tr>\n",
       "    <tr>\n",
       "      <th>1</th>\n",
       "      <td>100</td>\n",
       "      <td>70</td>\n",
       "      <td>1</td>\n",
       "      <td>concept</td>\n",
       "    </tr>\n",
       "    <tr>\n",
       "      <th>2</th>\n",
       "      <td>185</td>\n",
       "      <td>45</td>\n",
       "      <td>6</td>\n",
       "      <td>concept</td>\n",
       "    </tr>\n",
       "    <tr>\n",
       "      <th>3</th>\n",
       "      <td>192</td>\n",
       "      <td>79</td>\n",
       "      <td>5</td>\n",
       "      <td>solving question</td>\n",
       "    </tr>\n",
       "    <tr>\n",
       "      <th>4</th>\n",
       "      <td>317</td>\n",
       "      <td>156</td>\n",
       "      <td>5</td>\n",
       "      <td>solving question</td>\n",
       "    </tr>\n",
       "  </tbody>\n",
       "</table>\n",
       "</div>"
      ],
      "text/plain": [
       "   lecture_id  tag  part           type_of\n",
       "0          89  159     5           concept\n",
       "1         100   70     1           concept\n",
       "2         185   45     6           concept\n",
       "3         192   79     5  solving question\n",
       "4         317  156     5  solving question"
      ]
     },
     "execution_count": 2,
     "metadata": {},
     "output_type": "execute_result"
    }
   ],
   "source": [
    "lectures = pd.read_csv(\"data/lectures.csv\")\n",
    "lectures.head()"
   ]
  },
  {
   "cell_type": "markdown",
   "id": "802c78a8",
   "metadata": {},
   "source": [
    "* lecture_id: foreign key for the train/test content_id column, when the content type is lecture (1).\n",
    "* tag: one tag codes for the lecture. The meaning of the tags will not be provided, but these codes are sufficient for clustering the lectures together.\n",
    "* part: top level category code for the lecture.\n",
    "* type_of: brief description of the core purpose of the lecture."
   ]
  },
  {
   "cell_type": "code",
   "execution_count": 3,
   "id": "3c27c10a",
   "metadata": {},
   "outputs": [
    {
     "data": {
      "text/html": [
       "<div>\n",
       "<style scoped>\n",
       "    .dataframe tbody tr th:only-of-type {\n",
       "        vertical-align: middle;\n",
       "    }\n",
       "\n",
       "    .dataframe tbody tr th {\n",
       "        vertical-align: top;\n",
       "    }\n",
       "\n",
       "    .dataframe thead th {\n",
       "        text-align: right;\n",
       "    }\n",
       "</style>\n",
       "<table border=\"1\" class=\"dataframe\">\n",
       "  <thead>\n",
       "    <tr style=\"text-align: right;\">\n",
       "      <th></th>\n",
       "      <th>question_id</th>\n",
       "      <th>bundle_id</th>\n",
       "      <th>correct_answer</th>\n",
       "      <th>part</th>\n",
       "      <th>tags</th>\n",
       "    </tr>\n",
       "  </thead>\n",
       "  <tbody>\n",
       "    <tr>\n",
       "      <th>0</th>\n",
       "      <td>0</td>\n",
       "      <td>0</td>\n",
       "      <td>0</td>\n",
       "      <td>1</td>\n",
       "      <td>51 131 162 38</td>\n",
       "    </tr>\n",
       "    <tr>\n",
       "      <th>1</th>\n",
       "      <td>1</td>\n",
       "      <td>1</td>\n",
       "      <td>1</td>\n",
       "      <td>1</td>\n",
       "      <td>131 36 81</td>\n",
       "    </tr>\n",
       "    <tr>\n",
       "      <th>2</th>\n",
       "      <td>2</td>\n",
       "      <td>2</td>\n",
       "      <td>0</td>\n",
       "      <td>1</td>\n",
       "      <td>131 101 162 92</td>\n",
       "    </tr>\n",
       "    <tr>\n",
       "      <th>3</th>\n",
       "      <td>3</td>\n",
       "      <td>3</td>\n",
       "      <td>0</td>\n",
       "      <td>1</td>\n",
       "      <td>131 149 162 29</td>\n",
       "    </tr>\n",
       "    <tr>\n",
       "      <th>4</th>\n",
       "      <td>4</td>\n",
       "      <td>4</td>\n",
       "      <td>3</td>\n",
       "      <td>1</td>\n",
       "      <td>131 5 162 38</td>\n",
       "    </tr>\n",
       "    <tr>\n",
       "      <th>5</th>\n",
       "      <td>5</td>\n",
       "      <td>5</td>\n",
       "      <td>2</td>\n",
       "      <td>1</td>\n",
       "      <td>131 149 162 81</td>\n",
       "    </tr>\n",
       "    <tr>\n",
       "      <th>6</th>\n",
       "      <td>6</td>\n",
       "      <td>6</td>\n",
       "      <td>2</td>\n",
       "      <td>1</td>\n",
       "      <td>10 94 162 92</td>\n",
       "    </tr>\n",
       "    <tr>\n",
       "      <th>7</th>\n",
       "      <td>7</td>\n",
       "      <td>7</td>\n",
       "      <td>0</td>\n",
       "      <td>1</td>\n",
       "      <td>61 110 162 29</td>\n",
       "    </tr>\n",
       "    <tr>\n",
       "      <th>8</th>\n",
       "      <td>8</td>\n",
       "      <td>8</td>\n",
       "      <td>3</td>\n",
       "      <td>1</td>\n",
       "      <td>131 13 162 92</td>\n",
       "    </tr>\n",
       "    <tr>\n",
       "      <th>9</th>\n",
       "      <td>9</td>\n",
       "      <td>9</td>\n",
       "      <td>3</td>\n",
       "      <td>1</td>\n",
       "      <td>10 164 81</td>\n",
       "    </tr>\n",
       "  </tbody>\n",
       "</table>\n",
       "</div>"
      ],
      "text/plain": [
       "   question_id  bundle_id  correct_answer  part            tags\n",
       "0            0          0               0     1   51 131 162 38\n",
       "1            1          1               1     1       131 36 81\n",
       "2            2          2               0     1  131 101 162 92\n",
       "3            3          3               0     1  131 149 162 29\n",
       "4            4          4               3     1    131 5 162 38\n",
       "5            5          5               2     1  131 149 162 81\n",
       "6            6          6               2     1    10 94 162 92\n",
       "7            7          7               0     1   61 110 162 29\n",
       "8            8          8               3     1   131 13 162 92\n",
       "9            9          9               3     1       10 164 81"
      ]
     },
     "execution_count": 3,
     "metadata": {},
     "output_type": "execute_result"
    }
   ],
   "source": [
    "questions = pd.read_csv(\"data/questions.csv\")\n",
    "questions.head(10)"
   ]
  },
  {
   "cell_type": "markdown",
   "id": "f15bd6a8",
   "metadata": {},
   "source": [
    "* question_id: foreign key for the train/test content_id column, when the content type is question (0).\n",
    "* bundle_id: code for which questions are served together.\n",
    "* correct_answer: the answer to the question. Can be compared with the train user_answer column to check if the user was right.\n",
    "* part: the relevant section of the TOEIC test.\n",
    "* tags: one or more detailed tag codes for the question. The meaning of the tags will not be provided, but these codes are sufficient for clustering the questions together."
   ]
  },
  {
   "cell_type": "code",
   "execution_count": 4,
   "id": "25415e59",
   "metadata": {},
   "outputs": [
    {
     "data": {
      "text/html": [
       "<div>\n",
       "<style scoped>\n",
       "    .dataframe tbody tr th:only-of-type {\n",
       "        vertical-align: middle;\n",
       "    }\n",
       "\n",
       "    .dataframe tbody tr th {\n",
       "        vertical-align: top;\n",
       "    }\n",
       "\n",
       "    .dataframe thead th {\n",
       "        text-align: right;\n",
       "    }\n",
       "</style>\n",
       "<table border=\"1\" class=\"dataframe\">\n",
       "  <thead>\n",
       "    <tr style=\"text-align: right;\">\n",
       "      <th></th>\n",
       "      <th>timestamp</th>\n",
       "      <th>user_id</th>\n",
       "      <th>content_id</th>\n",
       "      <th>content_type_id</th>\n",
       "      <th>task_container_id</th>\n",
       "      <th>user_answer</th>\n",
       "      <th>answered_correctly</th>\n",
       "      <th>prior_question_elapsed_time</th>\n",
       "      <th>prior_question_had_explanation</th>\n",
       "    </tr>\n",
       "    <tr>\n",
       "      <th>row_id</th>\n",
       "      <th></th>\n",
       "      <th></th>\n",
       "      <th></th>\n",
       "      <th></th>\n",
       "      <th></th>\n",
       "      <th></th>\n",
       "      <th></th>\n",
       "      <th></th>\n",
       "      <th></th>\n",
       "    </tr>\n",
       "  </thead>\n",
       "  <tbody>\n",
       "    <tr>\n",
       "      <th>0</th>\n",
       "      <td>0</td>\n",
       "      <td>115</td>\n",
       "      <td>5692</td>\n",
       "      <td>0</td>\n",
       "      <td>1</td>\n",
       "      <td>3</td>\n",
       "      <td>1</td>\n",
       "      <td>NaN</td>\n",
       "      <td>NaN</td>\n",
       "    </tr>\n",
       "    <tr>\n",
       "      <th>1</th>\n",
       "      <td>56943</td>\n",
       "      <td>115</td>\n",
       "      <td>5716</td>\n",
       "      <td>0</td>\n",
       "      <td>2</td>\n",
       "      <td>2</td>\n",
       "      <td>1</td>\n",
       "      <td>37000.0</td>\n",
       "      <td>False</td>\n",
       "    </tr>\n",
       "    <tr>\n",
       "      <th>2</th>\n",
       "      <td>118363</td>\n",
       "      <td>115</td>\n",
       "      <td>128</td>\n",
       "      <td>0</td>\n",
       "      <td>0</td>\n",
       "      <td>0</td>\n",
       "      <td>1</td>\n",
       "      <td>55000.0</td>\n",
       "      <td>False</td>\n",
       "    </tr>\n",
       "    <tr>\n",
       "      <th>3</th>\n",
       "      <td>131167</td>\n",
       "      <td>115</td>\n",
       "      <td>7860</td>\n",
       "      <td>0</td>\n",
       "      <td>3</td>\n",
       "      <td>0</td>\n",
       "      <td>1</td>\n",
       "      <td>19000.0</td>\n",
       "      <td>False</td>\n",
       "    </tr>\n",
       "    <tr>\n",
       "      <th>4</th>\n",
       "      <td>137965</td>\n",
       "      <td>115</td>\n",
       "      <td>7922</td>\n",
       "      <td>0</td>\n",
       "      <td>4</td>\n",
       "      <td>1</td>\n",
       "      <td>1</td>\n",
       "      <td>11000.0</td>\n",
       "      <td>False</td>\n",
       "    </tr>\n",
       "  </tbody>\n",
       "</table>\n",
       "</div>"
      ],
      "text/plain": [
       "        timestamp  user_id  content_id  content_type_id  task_container_id  \\\n",
       "row_id                                                                       \n",
       "0               0      115        5692                0                  1   \n",
       "1           56943      115        5716                0                  2   \n",
       "2          118363      115         128                0                  0   \n",
       "3          131167      115        7860                0                  3   \n",
       "4          137965      115        7922                0                  4   \n",
       "\n",
       "        user_answer  answered_correctly  prior_question_elapsed_time  \\\n",
       "row_id                                                                 \n",
       "0                 3                   1                          NaN   \n",
       "1                 2                   1                      37000.0   \n",
       "2                 0                   1                      55000.0   \n",
       "3                 0                   1                      19000.0   \n",
       "4                 1                   1                      11000.0   \n",
       "\n",
       "       prior_question_had_explanation  \n",
       "row_id                                 \n",
       "0                                 NaN  \n",
       "1                               False  \n",
       "2                               False  \n",
       "3                               False  \n",
       "4                               False  "
      ]
     },
     "execution_count": 4,
     "metadata": {},
     "output_type": "execute_result"
    }
   ],
   "source": [
    "train = pd.read_csv(\"data/train.csv\",\n",
    "                    index_col = \"row_id\",\n",
    "                    nrows = 1000)\n",
    "train.head()"
   ]
  },
  {
   "cell_type": "markdown",
   "id": "00264f98",
   "metadata": {},
   "source": [
    "* row_id: (int64) ID code for the row.\n",
    "* timestamp: (int64) the time in milliseconds between this user interaction and the first event completion from that user.\n",
    "* user_id: (int32) ID code for the user.\n",
    "* content_id: (int16) ID code for the user interaction\n",
    "* content_type_id: (int8) 0 if the event was a question being posed to the user, 1 if the event was the user watching a lecture.\n",
    "* task_container_id: (int16) Id code for the batch of questions or lectures. For example, a user might see three questions in a row before seeing the explanations for any of them. Those three would all share a task_container_id.\n",
    "* user_answer: (int8) the user's answer to the question, if any. Read -1 as null, for lectures.\n",
    "* answered_correctly: (int8) if the user responded correctly. Read -1 as null, for lectures.\n",
    "* prior_question_elapsed_time: (float32) The average time in milliseconds it took a user to answer each question in the previous question bundle, ignoring any lectures in between. Is null for a user's first question bundle or lecture. Note that the time is the average time a user took to solve each question in the previous bundle.\n",
    "* prior_question_had_explanation: (bool) Whether or not the user saw an explanation and the correct response(s) after answering the previous question bundle, ignoring any lectures in between. The value is shared across a single question bundle, and is null for a user's first question bundle or lecture. Typically the first several questions a user sees were part of an onboarding diagnostic test where they did not get any feedback."
   ]
  },
  {
   "cell_type": "markdown",
   "id": "8ba796b8",
   "metadata": {},
   "source": [
    "## Таблица train огромна. Посчитаем кол-во строк в ней"
   ]
  },
  {
   "cell_type": "code",
   "execution_count": 5,
   "id": "c71f0f5e",
   "metadata": {},
   "outputs": [
    {
     "name": "stdout",
     "output_type": "stream",
     "text": [
      "Таблица train содержит 101,230,332 строк\n"
     ]
    }
   ],
   "source": [
    "n_rows = 0\n",
    "\n",
    "with pd.read_csv(\"data/train.csv\", index_col = \"row_id\", chunksize = 1000) as reader:\n",
    "    for chunk in reader:\n",
    "        n_rows+=len(chunk)\n",
    "        \n",
    "print(f\"Таблица train содержит {n_rows:,} строк\")"
   ]
  },
  {
   "cell_type": "markdown",
   "id": "c6c1316e",
   "metadata": {},
   "source": [
    "Так как строк очень много, ноутбук не справляется с таким объёмом данных. Придётся собирать статистику так же по кусочкам.\n",
    "* Кол-во правильных и неправильных ответов по пользователям\n",
    "* По вопросам (question_id, bundle_id, part) - соотношение между правильными и не правильными ответами. Очень сложные вопросы.\n",
    "* task_container_id - сложные и не очень\n",
    "* Подсказка на предыдущем вопросе\n",
    "* По тегам соотношение правильных и неправильных\n",
    "* Время на предыдущий вопрос\n",
    "* Есть ли улучшение с ростом timestamp?\n",
    "* Влияние посещения лекций"
   ]
  },
  {
   "cell_type": "markdown",
   "id": "b7279bd1",
   "metadata": {},
   "source": [
    "## Для каждого пользователя посчитаем долю правильных ответов"
   ]
  },
  {
   "cell_type": "code",
   "execution_count": 6,
   "id": "a6615384",
   "metadata": {},
   "outputs": [],
   "source": [
    "answer_counts = pd.DataFrame()\n",
    "with pd.read_csv(\"data/train.csv\", index_col = \"row_id\", chunksize = 10000) as reader:\n",
    "    for chunk in reader:\n",
    "        df = chunk[chunk['content_type_id']==0]\\\n",
    "            .groupby('user_id').agg(right_answers=(\"answered_correctly\",\"sum\"),\n",
    "                                    total_answers=(\"answered_correctly\",\"count\"))\n",
    "        answer_counts = pd.concat([answer_counts, df], axis=0)\n",
    "# Повторно группируем и суммируем по пользователю, так как отдельные пользователи могли попасть в разные чанки        \n",
    "answer_counts = answer_counts.groupby('user_id').agg(right_answers=(\"right_answers\",\"sum\"),\n",
    "                                     total_answers=(\"total_answers\",\"sum\"))"
   ]
  },
  {
   "cell_type": "code",
   "execution_count": 7,
   "id": "ccddb1ea",
   "metadata": {},
   "outputs": [],
   "source": [
    "answer_counts[\"right_answers_%\"] = answer_counts[\"right_answers\"]/answer_counts[\"total_answers\"]"
   ]
  },
  {
   "cell_type": "code",
   "execution_count": 8,
   "id": "4022e0a6",
   "metadata": {},
   "outputs": [
    {
     "data": {
      "image/png": "[encoded data removed]",
      "text/plain": [
       "<Figure size 1152x576 with 1 Axes>"
      ]
     },
     "metadata": {
      "needs_background": "light"
     },
     "output_type": "display_data"
    }
   ],
   "source": [
    "plt.subplots(figsize=(16, 8))\n",
    "plt.xlabel(\"Share of right answers\")\n",
    "plt.ylabel(\"Students\")\n",
    "plt.title(\"Histogram of students performance\")\n",
    "plt.hist(answer_counts[\"right_answers_%\"], bins = 20, color = \"#f34e6e\", alpha = 0.7)\n",
    "plt.show()"
   ]
  },
  {
   "cell_type": "markdown",
   "id": "05115eff",
   "metadata": {},
   "source": [
    "Основная масса студентов (середнячки) отвечает правильно на 50 - 80 % теста. Отличников (больше 80%) не так много."
   ]
  },
  {
   "cell_type": "markdown",
   "id": "e7e87706",
   "metadata": {},
   "source": [
    "## Посмотрим как влияют свойства вопросов на успеваемость"
   ]
  },
  {
   "cell_type": "markdown",
   "id": "b4c4c487",
   "metadata": {},
   "source": [
    "### Выгрузим данные в агрегированном виде по вопросам"
   ]
  },
  {
   "cell_type": "code",
   "execution_count": 9,
   "id": "489a8cf1",
   "metadata": {},
   "outputs": [],
   "source": [
    "q_answer_counts = pd.DataFrame()\n",
    "with pd.read_csv(\"data/train.csv\", index_col = \"row_id\", chunksize = 100000) as reader:\n",
    "    for chunk in reader:\n",
    "        df = chunk[chunk[\"content_type_id\"]==0]\\\n",
    "                .groupby([\"content_id\", \"task_container_id\"])\\\n",
    "                         .agg(right_answers=(\"answered_correctly\",\"sum\"),\n",
    "                              total_answers=(\"answered_correctly\",\"count\"))\n",
    "        q_answer_counts = pd.concat([q_answer_counts, df], axis=0)\n",
    "                                    \n",
    "# Повторно группируем и суммируем по пользователю, так как отдельные пользователи могли попасть в разные чанки        \n",
    "q_answer_counts = q_answer_counts.groupby([\"content_id\", \"task_container_id\"])\\\n",
    "                                    .agg(right_answers=(\"right_answers\",\"sum\"),\n",
    "                                         total_answers=(\"total_answers\",\"sum\"))"
   ]
  },
  {
   "cell_type": "code",
   "execution_count": 10,
   "id": "915eab98",
   "metadata": {},
   "outputs": [
    {
     "data": {
      "text/html": [
       "<div>\n",
       "<style scoped>\n",
       "    .dataframe tbody tr th:only-of-type {\n",
       "        vertical-align: middle;\n",
       "    }\n",
       "\n",
       "    .dataframe tbody tr th {\n",
       "        vertical-align: top;\n",
       "    }\n",
       "\n",
       "    .dataframe thead th {\n",
       "        text-align: right;\n",
       "    }\n",
       "</style>\n",
       "<table border=\"1\" class=\"dataframe\">\n",
       "  <thead>\n",
       "    <tr style=\"text-align: right;\">\n",
       "      <th></th>\n",
       "      <th>question_id</th>\n",
       "      <th>task_container_id</th>\n",
       "      <th>right_answers</th>\n",
       "      <th>total_answers</th>\n",
       "      <th>bundle_id</th>\n",
       "      <th>correct_answer</th>\n",
       "      <th>part</th>\n",
       "      <th>tags</th>\n",
       "    </tr>\n",
       "  </thead>\n",
       "  <tbody>\n",
       "    <tr>\n",
       "      <th>0</th>\n",
       "      <td>0</td>\n",
       "      <td>0</td>\n",
       "      <td>2</td>\n",
       "      <td>2</td>\n",
       "      <td>0</td>\n",
       "      <td>0</td>\n",
       "      <td>1</td>\n",
       "      <td>51 131 162 38</td>\n",
       "    </tr>\n",
       "    <tr>\n",
       "      <th>1</th>\n",
       "      <td>0</td>\n",
       "      <td>1</td>\n",
       "      <td>40</td>\n",
       "      <td>47</td>\n",
       "      <td>0</td>\n",
       "      <td>0</td>\n",
       "      <td>1</td>\n",
       "      <td>51 131 162 38</td>\n",
       "    </tr>\n",
       "    <tr>\n",
       "      <th>2</th>\n",
       "      <td>0</td>\n",
       "      <td>2</td>\n",
       "      <td>9</td>\n",
       "      <td>10</td>\n",
       "      <td>0</td>\n",
       "      <td>0</td>\n",
       "      <td>1</td>\n",
       "      <td>51 131 162 38</td>\n",
       "    </tr>\n",
       "    <tr>\n",
       "      <th>3</th>\n",
       "      <td>0</td>\n",
       "      <td>3</td>\n",
       "      <td>22</td>\n",
       "      <td>24</td>\n",
       "      <td>0</td>\n",
       "      <td>0</td>\n",
       "      <td>1</td>\n",
       "      <td>51 131 162 38</td>\n",
       "    </tr>\n",
       "    <tr>\n",
       "      <th>4</th>\n",
       "      <td>0</td>\n",
       "      <td>4</td>\n",
       "      <td>27</td>\n",
       "      <td>36</td>\n",
       "      <td>0</td>\n",
       "      <td>0</td>\n",
       "      <td>1</td>\n",
       "      <td>51 131 162 38</td>\n",
       "    </tr>\n",
       "  </tbody>\n",
       "</table>\n",
       "</div>"
      ],
      "text/plain": [
       "   question_id  task_container_id  right_answers  total_answers  bundle_id  \\\n",
       "0            0                  0              2              2          0   \n",
       "1            0                  1             40             47          0   \n",
       "2            0                  2              9             10          0   \n",
       "3            0                  3             22             24          0   \n",
       "4            0                  4             27             36          0   \n",
       "\n",
       "   correct_answer  part           tags  \n",
       "0               0     1  51 131 162 38  \n",
       "1               0     1  51 131 162 38  \n",
       "2               0     1  51 131 162 38  \n",
       "3               0     1  51 131 162 38  \n",
       "4               0     1  51 131 162 38  "
      ]
     },
     "execution_count": 10,
     "metadata": {},
     "output_type": "execute_result"
    }
   ],
   "source": [
    "q_answer_counts.reset_index(inplace = True)\n",
    "q_answer_counts.rename(columns = {'content_id': 'question_id'}, inplace = True)\n",
    "q_answer_counts = q_answer_counts.merge(questions,\n",
    "                                      how='left',\n",
    "                                      on='question_id')\n",
    "q_answer_counts.head()"
   ]
  },
  {
   "cell_type": "markdown",
   "id": "437fc98c",
   "metadata": {},
   "source": [
    "### Оценим влияние part на успеваемость"
   ]
  },
  {
   "cell_type": "code",
   "execution_count": 11,
   "id": "b74707cf",
   "metadata": {},
   "outputs": [
    {
     "name": "stdout",
     "output_type": "stream",
     "text": [
      "      right_answers_%\n",
      "part                 \n",
      "5              61.01%\n",
      "4              63.10%\n",
      "7              65.96%\n",
      "6              66.94%\n",
      "3              70.15%\n",
      "2              70.87%\n",
      "1              74.50%\n"
     ]
    }
   ],
   "source": [
    "part_answer_counts = q_answer_counts.groupby(\"part\").agg(right_answers=(\"right_answers\",\"sum\"),\n",
    "                                     total_answers=(\"total_answers\",\"sum\"))\n",
    "part_answer_counts[\"right_answers_%\"] = part_answer_counts[\"right_answers\"]/part_answer_counts[\"total_answers\"]\n",
    "with pd.option_context('display.float_format', '{:,.2%}'.format):\n",
    "    print(part_answer_counts[['right_answers_%']].sort_values(by = 'right_answers_%'))"
   ]
  },
  {
   "cell_type": "markdown",
   "id": "ffcad47d",
   "metadata": {},
   "source": [
    "Судя по данным, получается, что часть 1 даётся студентам проще всего, а часть 5 - сложнее всего.\n",
    "Разные части теста ожидаемо имеют разный уровень сложности. Какие тут могут быть причины:\n",
    "* Каждая часть теста состоит из ряда однотипных вопросов. Характер вопросов при этом отличается (что-то студентам дайтся проще, что-то сложнее). Например, в первых четырёх частях нужно воспринимать информацию на слух, в последних трёх - работа с текстом.\n",
    "* В первой части (лучший средний балл) студент отвечает всего на 6 вопросов (данные с сайта о тесте), а в пятой (худший средний балл) - 30 (студенту может быть сложнее концентрироваться так долго).\n",
    "* Кроме того, на первой части (в начале тестирования) голова ещё \"свеженькая\" и хорошо соображает, к концу теста мозг может уставать и больше ошибаться.\n",
    "\n",
    "\n",
    "https://www.iibc-global.org/english/toeic/test/lr/about/format.html\n",
    "\n",
    "Далее визуализируем, насколько успешно студенты отвечают на вопросы в разных частях теста."
   ]
  },
  {
   "cell_type": "code",
   "execution_count": 12,
   "id": "428465b5",
   "metadata": {},
   "outputs": [],
   "source": [
    "part_q_answer_counts = q_answer_counts.groupby([\"part\", \"question_id\"])\\\n",
    "                                      .agg(right_answers=(\"right_answers\",\"sum\"),\n",
    "                                           total_answers=(\"total_answers\",\"sum\"))\n",
    "part_q_answer_counts[\"right_answers_%\"] = part_q_answer_counts[\"right_answers\"]/part_q_answer_counts[\"total_answers\"]\n",
    "part_q_answer_counts.reset_index(inplace = True)"
   ]
  },
  {
   "cell_type": "code",
   "execution_count": 13,
   "id": "58fc8229",
   "metadata": {},
   "outputs": [
    {
     "name": "stderr",
     "output_type": "stream",
     "text": [
      "No artists with labels found to put in legend.  Note that artists whose label start with an underscore are ignored when legend() is called with no argument.\n"
     ]
    },
    {
     "data": {
      "image/png": "[encoded data removed]",
      "text/plain": [
       "<Figure size 1152x576 with 1 Axes>"
      ]
     },
     "metadata": {
      "needs_background": "light"
     },
     "output_type": "display_data"
    }
   ],
   "source": [
    "fig, ax = plt.subplots(figsize=(16, 8))\n",
    "x = list(part_q_answer_counts['part'])\n",
    "y = [list(part_q_answer_counts[part_q_answer_counts.part==i]['right_answers_%']) for i in range(1,8)]\n",
    "ax.violinplot(y,\n",
    "                  showmeans=False,\n",
    "                  showmedians=True)\n",
    "ax.set_title('Questions difficulty by part')\n",
    "ax.set_xlabel(\"Parts of the test\")\n",
    "ax.set_ylabel(\"Share of proper question answers\")\n",
    "ax.legend()\n",
    "plt.show()"
   ]
  },
  {
   "cell_type": "markdown",
   "id": "8db24d2d",
   "metadata": {},
   "source": [
    "Здесь тоже видно, что разные части теста по-разному даются студентам:\n",
    "* В 3 и 6 группах есть вопросы, на которые никто не смог ответить\n",
    "* Лучше всего студенты справляются с первой частью.\n",
    "\n",
    "Посмотрим, что это за вопросы, на которые никто не ответил"
   ]
  },
  {
   "cell_type": "code",
   "execution_count": 14,
   "id": "63a55dec",
   "metadata": {},
   "outputs": [
    {
     "data": {
      "text/html": [
       "<div>\n",
       "<style scoped>\n",
       "    .dataframe tbody tr th:only-of-type {\n",
       "        vertical-align: middle;\n",
       "    }\n",
       "\n",
       "    .dataframe tbody tr th {\n",
       "        vertical-align: top;\n",
       "    }\n",
       "\n",
       "    .dataframe thead th {\n",
       "        text-align: right;\n",
       "    }\n",
       "</style>\n",
       "<table border=\"1\" class=\"dataframe\">\n",
       "  <thead>\n",
       "    <tr style=\"text-align: right;\">\n",
       "      <th></th>\n",
       "      <th>part</th>\n",
       "      <th>question_id</th>\n",
       "      <th>right_answers</th>\n",
       "      <th>total_answers</th>\n",
       "      <th>right_answers_%</th>\n",
       "    </tr>\n",
       "  </thead>\n",
       "  <tbody>\n",
       "    <tr>\n",
       "      <th>2723</th>\n",
       "      <td>3</td>\n",
       "      <td>1484</td>\n",
       "      <td>0</td>\n",
       "      <td>1</td>\n",
       "      <td>0.0</td>\n",
       "    </tr>\n",
       "    <tr>\n",
       "      <th>2724</th>\n",
       "      <td>3</td>\n",
       "      <td>1485</td>\n",
       "      <td>0</td>\n",
       "      <td>1</td>\n",
       "      <td>0.0</td>\n",
       "    </tr>\n",
       "    <tr>\n",
       "      <th>2725</th>\n",
       "      <td>3</td>\n",
       "      <td>1486</td>\n",
       "      <td>0</td>\n",
       "      <td>1</td>\n",
       "      <td>0.0</td>\n",
       "    </tr>\n",
       "    <tr>\n",
       "      <th>11560</th>\n",
       "      <td>6</td>\n",
       "      <td>10007</td>\n",
       "      <td>0</td>\n",
       "      <td>1</td>\n",
       "      <td>0.0</td>\n",
       "    </tr>\n",
       "  </tbody>\n",
       "</table>\n",
       "</div>"
      ],
      "text/plain": [
       "       part  question_id  right_answers  total_answers  right_answers_%\n",
       "2723      3         1484              0              1              0.0\n",
       "2724      3         1485              0              1              0.0\n",
       "2725      3         1486              0              1              0.0\n",
       "11560     6        10007              0              1              0.0"
      ]
     },
     "execution_count": 14,
     "metadata": {},
     "output_type": "execute_result"
    }
   ],
   "source": [
    "part_q_answer_counts[part_q_answer_counts['right_answers_%']==0]"
   ]
  },
  {
   "cell_type": "markdown",
   "id": "26d2fd33",
   "metadata": {},
   "source": [
    "По этим вопросам было собрано всего одно наблюдение! По таким единичным наблюдениям нельзя судить о степени сложности вопроса, поэтому далее исключим их из выборки.\n",
    "Какое количество накопленных ответов считать достаточным? Посмотрим, что нам скажет метод describe."
   ]
  },
  {
   "cell_type": "code",
   "execution_count": 15,
   "id": "b47682c0",
   "metadata": {},
   "outputs": [
    {
     "data": {
      "text/plain": [
       "count     13523.000000\n",
       "mean       7340.922872\n",
       "std       11455.927774\n",
       "min           1.000000\n",
       "5%          153.000000\n",
       "10%         283.000000\n",
       "15%         913.000000\n",
       "25%        1765.500000\n",
       "50%        4732.000000\n",
       "75%        8556.000000\n",
       "max      213605.000000\n",
       "Name: total_answers, dtype: float64"
      ]
     },
     "execution_count": 15,
     "metadata": {},
     "output_type": "execute_result"
    }
   ],
   "source": [
    "part_q_answer_counts[\"total_answers\"].describe(percentiles=[.05, .1, .15,.25, .5, .75])"
   ]
  },
  {
   "cell_type": "markdown",
   "id": "b79b052d",
   "metadata": {},
   "source": [
    "Чтобы не удалять слшком много вопросов, попробуем оставить только те вопросы, на которые было дано от 150 ответов (отрежем ~5% самых непопулярных вопросов). И посмотрим, как измениться график."
   ]
  },
  {
   "cell_type": "code",
   "execution_count": 16,
   "id": "cf08c2dd",
   "metadata": {},
   "outputs": [],
   "source": [
    "part_q_answer_counts = part_q_answer_counts[part_q_answer_counts[\"total_answers\"]>=150]"
   ]
  },
  {
   "cell_type": "code",
   "execution_count": 17,
   "id": "b4594f36",
   "metadata": {},
   "outputs": [
    {
     "name": "stderr",
     "output_type": "stream",
     "text": [
      "No artists with labels found to put in legend.  Note that artists whose label start with an underscore are ignored when legend() is called with no argument.\n"
     ]
    },
    {
     "data": {
      "image/png": "[encoded data removed]",
      "text/plain": [
       "<Figure size 1152x576 with 1 Axes>"
      ]
     },
     "metadata": {
      "needs_background": "light"
     },
     "output_type": "display_data"
    }
   ],
   "source": [
    "fig, ax = plt.subplots(figsize=(16, 8))\n",
    "x = list(part_q_answer_counts['part'])\n",
    "y = [list(part_q_answer_counts[part_q_answer_counts.part==i]['right_answers_%']) for i in range(1,8)]\n",
    "ax.violinplot(y,\n",
    "                  showmeans=False,\n",
    "                  showmedians=True)\n",
    "ax.set_title('Questions difficulty by part')\n",
    "ax.set_xlabel(\"Parts of the test\")\n",
    "ax.set_ylabel(\"Share of proper question answers\")\n",
    "ax.legend()\n",
    "plt.show()"
   ]
  },
  {
   "cell_type": "markdown",
   "id": "52287ecd",
   "metadata": {},
   "source": [
    "Картинка существенно не изменилась. Первая часть по-прежнему определяется как самая простая, пятая - как самая сложная. Остальные части примерно на одном уровне сложности.\n",
    "\n",
    "**Для прогнозирования вероятности правильного ответа можно попробовать использовать фичу части теста одним их двух вариантов и выбрать тот, с которым получается лучший результат:**\n",
    "* вариант А - каждой части теста соответствует своя категория\n",
    "* вариант Б - поделить части на 3 категоррии: сложная (часть 5), простая (часть 1) и средние (все остальные)"
   ]
  },
  {
   "cell_type": "markdown",
   "id": "af5806fc",
   "metadata": {},
   "source": [
    "### Оценим влияние bundle_id на успеваемость"
   ]
  },
  {
   "cell_type": "code",
   "execution_count": 18,
   "id": "3a16af16",
   "metadata": {},
   "outputs": [
    {
     "name": "stdout",
     "output_type": "stream",
     "text": [
      "В одном bundle может быть вопросов: [1 2 3 4 5]\n",
      "Один вопрос может попадать в [1] bundle\n"
     ]
    }
   ],
   "source": [
    "bundles_per_question = q_answer_counts[['bundle_id', 'question_id']].drop_duplicates().groupby('question_id').size().sort_values()\n",
    "questions_per_bundle = q_answer_counts[['bundle_id', 'question_id']].drop_duplicates().groupby('bundle_id').size().sort_values()\n",
    "print(\"В одном bundle может быть вопросов: {}\".format(str(questions_per_bundle.unique())))\n",
    "print(\"Один вопрос может попадать в {} bundle\".format(str(bundles_per_question.unique())))"
   ]
  },
  {
   "cell_type": "markdown",
   "id": "864fa37c",
   "metadata": {},
   "source": [
    "Каждый вопрос у нас попадает только в один bundle, при этом в одном bundle может находиться от 1 до 5 различных вопросов. Судя по описанию, bundle - это некоторая группа вопросов, которая в тесте появляется совместно. Вероятно, это вопросы к одному и тому же тексту/аудиофрагменту."
   ]
  },
  {
   "cell_type": "code",
   "execution_count": 19,
   "id": "309ea3ac",
   "metadata": {},
   "outputs": [],
   "source": [
    "bundle_answer_counts = q_answer_counts.groupby([\"part\", \"bundle_id\"])\\\n",
    "                                      .agg(right_answers=(\"right_answers\",\"sum\"),\n",
    "                                           total_answers=(\"total_answers\",\"sum\"))\n",
    "bundle_answer_counts[\"right_answers_%\"] = bundle_answer_counts[\"right_answers\"]/bundle_answer_counts[\"total_answers\"]\n",
    "bundle_answer_counts.reset_index(inplace = True)\n",
    "bundle_answer_counts = bundle_answer_counts[bundle_answer_counts[\"total_answers\"]>=150]"
   ]
  },
  {
   "cell_type": "code",
   "execution_count": 20,
   "id": "9bf76a1b",
   "metadata": {},
   "outputs": [
    {
     "data": {
      "text/plain": [
       "count    9621.000000\n",
       "mean        0.703160\n",
       "std         0.150858\n",
       "min         0.144753\n",
       "25%         0.613868\n",
       "50%         0.723286\n",
       "75%         0.812993\n",
       "max         0.994595\n",
       "Name: right_answers_%, dtype: float64"
      ]
     },
     "execution_count": 20,
     "metadata": {},
     "output_type": "execute_result"
    }
   ],
   "source": [
    "bundle_answer_counts[\"right_answers_%\"].describe()"
   ]
  },
  {
   "cell_type": "code",
   "execution_count": 21,
   "id": "9caf4bdf",
   "metadata": {},
   "outputs": [
    {
     "data": {
      "image/png": "[encoded data removed]",
      "text/plain": [
       "<Figure size 720x1440 with 7 Axes>"
      ]
     },
     "metadata": {
      "needs_background": "light"
     },
     "output_type": "display_data"
    }
   ],
   "source": [
    "fig, axs = plt.subplots(7, figsize=(10, 20), sharex=True)\n",
    "for i in range(7):\n",
    "    axs[i].hist(bundle_answer_counts[bundle_answer_counts[\"part\"]== i+1][\"right_answers_%\"],\n",
    "                  bins = 100,\n",
    "                  color = \"#f34e6e\",\n",
    "                  alpha = 0.7\n",
    "                  )\n",
    "    axs[i].set_title(f\"Bundels difficulty distribution for part {i+1}\")\n",
    "    \n",
    "plt.show()   "
   ]
  },
  {
   "cell_type": "markdown",
   "id": "914949fa",
   "metadata": {},
   "source": [
    "Получается, что для большинства частей сложность bundles основной массе средняя (60-80% правильных ответов). Но есть определённая доля bundles, на которые отвечают хуже (особенно высока доля таких в части 5), и есть категория bundles, на которые отвечают почти все (в первой части смещение явно в эту сторону).\n",
    "\n",
    "**Для прогнозирования вероятности правильного ответа можно попробовать классифицировать все bundles на несколько категорий сложности по среднему проценту правильных ответов.**"
   ]
  },
  {
   "cell_type": "markdown",
   "id": "d76cf73c",
   "metadata": {},
   "source": [
    "### Посмотрим на task_container_id"
   ]
  },
  {
   "cell_type": "code",
   "execution_count": 22,
   "id": "2055b188",
   "metadata": {},
   "outputs": [
    {
     "name": "stdout",
     "output_type": "stream",
     "text": [
      "В одном task_container_id может быть вопросов: [  165   169   170 ... 11478 11485 11503]\n",
      "Один вопрос может попадать в [   1    3    5 ... 4371 4441 4456] task_container_id\n"
     ]
    }
   ],
   "source": [
    "tс_per_question = q_answer_counts[['task_container_id', 'question_id']].drop_duplicates().groupby('question_id').size().sort_values()\n",
    "questions_per_tс = q_answer_counts[['task_container_id', 'question_id']].drop_duplicates().groupby('task_container_id').size().sort_values()\n",
    "print(\"В одном task_container_id может быть вопросов: {}\".format(str(questions_per_tс.unique())))\n",
    "print(\"Один вопрос может попадать в {} task_container_id\".format(str(tс_per_question.unique())))"
   ]
  },
  {
   "cell_type": "markdown",
   "id": "e894090f",
   "metadata": {},
   "source": [
    "Один и тот же вопрос попадает то в один, то в другой task_container_id. Данный атрибут является переменным свойством вопроса и, скорее всего, будет только вносить сумятицу в модель, если использовать его в качестве предсказательной переменной."
   ]
  },
  {
   "cell_type": "markdown",
   "id": "baf075fc",
   "metadata": {},
   "source": [
    "### Тэги"
   ]
  },
  {
   "cell_type": "code",
   "execution_count": 43,
   "id": "0ef3a726",
   "metadata": {},
   "outputs": [],
   "source": [
    "tag_answer_count = q_answer_counts.groupby(\"tags\").agg(right_answers=(\"right_answers\",\"sum\"),\n",
    "                                           total_answers=(\"total_answers\",\"sum\")) #27665376\n",
    "tag_answer_count.reset_index(inplace = True)\n",
    "tag_answer_count['tags'] = tag_answer_count['tags'].str.split(' ').tolist()"
   ]
  },
  {
   "cell_type": "code",
   "execution_count": 45,
   "id": "75ca0454",
   "metadata": {},
   "outputs": [],
   "source": [
    "tag_answer_count = tag_answer_count.explode('tags').groupby(\"tags\").agg(right_answers=(\"right_answers\",\"sum\"),\n",
    "                                           total_answers=(\"total_answers\",\"sum\"))\n",
    "tag_answer_count[\"right_answers_%\"] = tag_answer_count[\"right_answers\"]/tag_answer_count[\"total_answers\"]"
   ]
  },
  {
   "cell_type": "code",
   "execution_count": 46,
   "id": "b7e6e7e9",
   "metadata": {},
   "outputs": [
    {
     "data": {
      "text/plain": [
       "count    188.000000\n",
       "mean       0.666052\n",
       "std        0.081571\n",
       "min        0.385725\n",
       "25%        0.620568\n",
       "50%        0.677909\n",
       "75%        0.714171\n",
       "max        0.863945\n",
       "Name: right_answers_%, dtype: float64"
      ]
     },
     "execution_count": 46,
     "metadata": {},
     "output_type": "execute_result"
    }
   ],
   "source": [
    "tag_answer_count[\"right_answers_%\"].describe()"
   ]
  },
  {
   "cell_type": "code",
   "execution_count": 47,
   "id": "8a98b242",
   "metadata": {},
   "outputs": [
    {
     "data": {
      "image/png": "[encoded data removed]",
      "text/plain": [
       "<Figure size 1152x576 with 1 Axes>"
      ]
     },
     "metadata": {
      "needs_background": "light"
     },
     "output_type": "display_data"
    }
   ],
   "source": [
    "plt.subplots(figsize=(16, 8))\n",
    "plt.xlabel(\"Share of right answers\")\n",
    "plt.ylabel(\"Amount of tags\")\n",
    "plt.title(\"Tags difficulty distribution\")\n",
    "plt.hist(tag_answer_count[\"right_answers_%\"], bins = 100, color = \"#f34e6e\", alpha = 0.7)\n",
    "plt.show()"
   ]
  },
  {
   "cell_type": "code",
   "execution_count": 50,
   "id": "d44a3366",
   "metadata": {},
   "outputs": [
    {
     "name": "stdout",
     "output_type": "stream",
     "text": [
      "Отсортируем теги по сложности\n"
     ]
    },
    {
     "data": {
      "text/html": [
       "<div>\n",
       "<style scoped>\n",
       "    .dataframe tbody tr th:only-of-type {\n",
       "        vertical-align: middle;\n",
       "    }\n",
       "\n",
       "    .dataframe tbody tr th {\n",
       "        vertical-align: top;\n",
       "    }\n",
       "\n",
       "    .dataframe thead th {\n",
       "        text-align: right;\n",
       "    }\n",
       "</style>\n",
       "<table border=\"1\" class=\"dataframe\">\n",
       "  <thead>\n",
       "    <tr style=\"text-align: right;\">\n",
       "      <th></th>\n",
       "      <th>right_answers</th>\n",
       "      <th>total_answers</th>\n",
       "      <th>right_answers_%</th>\n",
       "    </tr>\n",
       "    <tr>\n",
       "      <th>tags</th>\n",
       "      <th></th>\n",
       "      <th></th>\n",
       "      <th></th>\n",
       "    </tr>\n",
       "  </thead>\n",
       "  <tbody>\n",
       "    <tr>\n",
       "      <th>24</th>\n",
       "      <td>98982</td>\n",
       "      <td>256613</td>\n",
       "      <td>0.385725</td>\n",
       "    </tr>\n",
       "    <tr>\n",
       "      <th>23</th>\n",
       "      <td>204293</td>\n",
       "      <td>465904</td>\n",
       "      <td>0.438487</td>\n",
       "    </tr>\n",
       "    <tr>\n",
       "      <th>19</th>\n",
       "      <td>136367</td>\n",
       "      <td>309969</td>\n",
       "      <td>0.439938</td>\n",
       "    </tr>\n",
       "    <tr>\n",
       "      <th>151</th>\n",
       "      <td>264913</td>\n",
       "      <td>537180</td>\n",
       "      <td>0.493155</td>\n",
       "    </tr>\n",
       "    <tr>\n",
       "      <th>167</th>\n",
       "      <td>170681</td>\n",
       "      <td>341067</td>\n",
       "      <td>0.500432</td>\n",
       "    </tr>\n",
       "    <tr>\n",
       "      <th>...</th>\n",
       "      <td>...</td>\n",
       "      <td>...</td>\n",
       "      <td>...</td>\n",
       "    </tr>\n",
       "    <tr>\n",
       "      <th>40</th>\n",
       "      <td>184338</td>\n",
       "      <td>226514</td>\n",
       "      <td>0.813804</td>\n",
       "    </tr>\n",
       "    <tr>\n",
       "      <th>149</th>\n",
       "      <td>336639</td>\n",
       "      <td>396973</td>\n",
       "      <td>0.848015</td>\n",
       "    </tr>\n",
       "    <tr>\n",
       "      <th>130</th>\n",
       "      <td>207920</td>\n",
       "      <td>243708</td>\n",
       "      <td>0.853152</td>\n",
       "    </tr>\n",
       "    <tr>\n",
       "      <th>187</th>\n",
       "      <td>215776</td>\n",
       "      <td>252069</td>\n",
       "      <td>0.856020</td>\n",
       "    </tr>\n",
       "    <tr>\n",
       "      <th>68</th>\n",
       "      <td>104000</td>\n",
       "      <td>120378</td>\n",
       "      <td>0.863945</td>\n",
       "    </tr>\n",
       "  </tbody>\n",
       "</table>\n",
       "<p>188 rows × 3 columns</p>\n",
       "</div>"
      ],
      "text/plain": [
       "      right_answers  total_answers  right_answers_%\n",
       "tags                                               \n",
       "24            98982         256613         0.385725\n",
       "23           204293         465904         0.438487\n",
       "19           136367         309969         0.439938\n",
       "151          264913         537180         0.493155\n",
       "167          170681         341067         0.500432\n",
       "...             ...            ...              ...\n",
       "40           184338         226514         0.813804\n",
       "149          336639         396973         0.848015\n",
       "130          207920         243708         0.853152\n",
       "187          215776         252069         0.856020\n",
       "68           104000         120378         0.863945\n",
       "\n",
       "[188 rows x 3 columns]"
      ]
     },
     "metadata": {},
     "output_type": "display_data"
    }
   ],
   "source": [
    "print(\"Отсортируем теги по сложности\")\n",
    "display(tag_answer_count.sort_values(by = \"right_answers_%\"))"
   ]
  },
  {
   "cell_type": "markdown",
   "id": "577601e6",
   "metadata": {},
   "source": [
    "По тегам тоже есть ряд тегов, на вопросы по которым отвечают почти все правильно(например, 187, 68). И наоборот, есть теги, которые вызывают затруднения у существенной части студентов (например 24 и 23).\n",
    "\n",
    "**Для прогнозирования правильности ответа теги также имеет смысл распределить по категорим сложности.**"
   ]
  },
  {
   "cell_type": "markdown",
   "id": "365247f5",
   "metadata": {},
   "source": [
    "## Проанализируем, насколько посещение лекций помогает студентам правильно отвечать на вопросы"
   ]
  },
  {
   "cell_type": "markdown",
   "id": "aa4aaeb9",
   "metadata": {},
   "source": [
    "### Соберём статистику по пользователям - какие лекции они посетили"
   ]
  },
  {
   "cell_type": "code",
   "execution_count": 72,
   "id": "c0ce6369",
   "metadata": {},
   "outputs": [],
   "source": [
    "lecture_attendance = pd.DataFrame()\n",
    "with pd.read_csv(\"data/train.csv\", index_col = \"row_id\", chunksize = 100000) as reader:\n",
    "    for chunk in reader:\n",
    "        df = chunk[chunk['content_type_id']==1][['timestamp', 'user_id', 'content_id', 'task_container_id']]\n",
    "        df.rename(columns = {'content_id': 'lecture_id'}, inplace = True)\n",
    "        df = df.merge(lectures, how='left', on='lecture_id')\n",
    "        lecture_attendance = pd.concat([lecture_attendance, df], axis=0)\n",
    "#lecture_attendance['type_of'] = lecture_attendance['type_of'].astype('category')"
   ]
  },
  {
   "cell_type": "code",
   "execution_count": 59,
   "id": "3e8e765f",
   "metadata": {},
   "outputs": [
    {
     "data": {
      "text/html": [
       "<div>\n",
       "<style scoped>\n",
       "    .dataframe tbody tr th:only-of-type {\n",
       "        vertical-align: middle;\n",
       "    }\n",
       "\n",
       "    .dataframe tbody tr th {\n",
       "        vertical-align: top;\n",
       "    }\n",
       "\n",
       "    .dataframe thead th {\n",
       "        text-align: right;\n",
       "    }\n",
       "</style>\n",
       "<table border=\"1\" class=\"dataframe\">\n",
       "  <thead>\n",
       "    <tr style=\"text-align: right;\">\n",
       "      <th></th>\n",
       "      <th>timestamp</th>\n",
       "      <th>user_id</th>\n",
       "      <th>lecture_id</th>\n",
       "      <th>task_container_id</th>\n",
       "      <th>tag</th>\n",
       "      <th>part</th>\n",
       "      <th>type_of</th>\n",
       "    </tr>\n",
       "  </thead>\n",
       "  <tbody>\n",
       "    <tr>\n",
       "      <th>0</th>\n",
       "      <td>653762</td>\n",
       "      <td>2746</td>\n",
       "      <td>6808</td>\n",
       "      <td>14</td>\n",
       "      <td>129</td>\n",
       "      <td>2</td>\n",
       "      <td>intention</td>\n",
       "    </tr>\n",
       "    <tr>\n",
       "      <th>1</th>\n",
       "      <td>10183847</td>\n",
       "      <td>5382</td>\n",
       "      <td>16736</td>\n",
       "      <td>21</td>\n",
       "      <td>40</td>\n",
       "      <td>1</td>\n",
       "      <td>concept</td>\n",
       "    </tr>\n",
       "    <tr>\n",
       "      <th>2</th>\n",
       "      <td>1424348597</td>\n",
       "      <td>5382</td>\n",
       "      <td>30207</td>\n",
       "      <td>104</td>\n",
       "      <td>43</td>\n",
       "      <td>5</td>\n",
       "      <td>concept</td>\n",
       "    </tr>\n",
       "    <tr>\n",
       "      <th>3</th>\n",
       "      <td>1425557777</td>\n",
       "      <td>5382</td>\n",
       "      <td>18545</td>\n",
       "      <td>121</td>\n",
       "      <td>58</td>\n",
       "      <td>5</td>\n",
       "      <td>concept</td>\n",
       "    </tr>\n",
       "    <tr>\n",
       "      <th>4</th>\n",
       "      <td>405813029</td>\n",
       "      <td>8623</td>\n",
       "      <td>10540</td>\n",
       "      <td>59</td>\n",
       "      <td>99</td>\n",
       "      <td>1</td>\n",
       "      <td>concept</td>\n",
       "    </tr>\n",
       "  </tbody>\n",
       "</table>\n",
       "</div>"
      ],
      "text/plain": [
       "    timestamp  user_id  lecture_id  task_container_id  tag  part    type_of\n",
       "0      653762     2746        6808                 14  129     2  intention\n",
       "1    10183847     5382       16736                 21   40     1    concept\n",
       "2  1424348597     5382       30207                104   43     5    concept\n",
       "3  1425557777     5382       18545                121   58     5    concept\n",
       "4   405813029     8623       10540                 59   99     1    concept"
      ]
     },
     "execution_count": 59,
     "metadata": {},
     "output_type": "execute_result"
    }
   ],
   "source": [
    "lecture_attendance.head()"
   ]
  },
  {
   "cell_type": "code",
   "execution_count": 61,
   "id": "22fd03f5",
   "metadata": {},
   "outputs": [
    {
     "data": {
      "text/plain": [
       "{'concept', 'intention', 'solving question', 'starter'}"
      ]
     },
     "execution_count": 61,
     "metadata": {},
     "output_type": "execute_result"
    }
   ],
   "source": [
    "set(lecture_attendance.type_of)"
   ]
  },
  {
   "cell_type": "markdown",
   "id": "154ecf3e",
   "metadata": {},
   "source": [
    "### Попробуем оценить, есть ли зависимость между фактом посещения лекций разных типов по той или иной части теста и успеваемостью студента по этой части теста."
   ]
  },
  {
   "cell_type": "code",
   "execution_count": null,
   "id": "3f780736",
   "metadata": {},
   "outputs": [],
   "source": [
    "# Выгрузим успеваемость пользователей в разрезе частей теста\n",
    "up_answer_counts = pd.DataFrame()\n",
    "with pd.read_csv(\"data/train.csv\", index_col = \"row_id\", chunksize = 100000) as reader:\n",
    "    for chunk in reader:\n",
    "        df = chunk[chunk[\"content_type_id\"]==0]\n",
    "        df.rename(columns = {'content_id': 'question_id'}, inplace = True)\n",
    "        df = df.merge(questions, how='left', on='question_id')\\\n",
    "               .groupby([\"user_id\", \"part\"])\\\n",
    "               .agg(right_answers=(\"answered_correctly\",\"sum\"),\n",
    "                    total_answers=(\"answered_correctly\",\"count\"))\n",
    "        up_answer_counts = pd.concat([up_answer_counts, df], axis=0)\n",
    "                                    \n",
    "# Повторно группируем и суммируем по пользователю, так как отдельные пользователи могли попасть в разные чанки        \n",
    "up_answer_counts = up_answer_counts.groupby([\"user_id\", \"part\"])\\\n",
    "                                    .agg(right_answers=(\"right_answers\",\"sum\"),\n",
    "                                         total_answers=(\"total_answers\",\"sum\"))"
   ]
  },
  {
   "cell_type": "code",
   "execution_count": 73,
   "id": "b3293961",
   "metadata": {},
   "outputs": [],
   "source": [
    "up_answer_counts[\"right_answers_%\"] = up_answer_counts[\"right_answers\"]/up_answer_counts[\"total_answers\"]\n",
    "up_answer_counts.reset_index(inplace = True)\n",
    "df = up_answer_counts.merge(lecture_attendance[[\"user_id\", \"part\", \"type_of\"]].drop_duplicates(),\n",
    "                      on = [\"user_id\", \"part\"],\n",
    "                      how = \"left\")\n",
    "df.fillna({\"type_of\": \"no_lectures\"}, inplace = True)"
   ]
  },
  {
   "cell_type": "code",
   "execution_count": 83,
   "id": "5a704cb1",
   "metadata": {},
   "outputs": [
    {
     "data": {
      "text/html": [
       "<div>\n",
       "<style scoped>\n",
       "    .dataframe tbody tr th:only-of-type {\n",
       "        vertical-align: middle;\n",
       "    }\n",
       "\n",
       "    .dataframe tbody tr th {\n",
       "        vertical-align: top;\n",
       "    }\n",
       "\n",
       "    .dataframe thead th {\n",
       "        text-align: right;\n",
       "    }\n",
       "</style>\n",
       "<table border=\"1\" class=\"dataframe\">\n",
       "  <thead>\n",
       "    <tr style=\"text-align: right;\">\n",
       "      <th>type_of</th>\n",
       "      <th>concept</th>\n",
       "      <th>intention</th>\n",
       "      <th>no_lectures</th>\n",
       "      <th>solving question</th>\n",
       "      <th>starter</th>\n",
       "    </tr>\n",
       "    <tr>\n",
       "      <th>part</th>\n",
       "      <th></th>\n",
       "      <th></th>\n",
       "      <th></th>\n",
       "      <th></th>\n",
       "      <th></th>\n",
       "    </tr>\n",
       "  </thead>\n",
       "  <tbody>\n",
       "    <tr>\n",
       "      <th>1</th>\n",
       "      <td>0.710884</td>\n",
       "      <td>NaN</td>\n",
       "      <td>0.596246</td>\n",
       "      <td>0.696273</td>\n",
       "      <td>NaN</td>\n",
       "    </tr>\n",
       "    <tr>\n",
       "      <th>2</th>\n",
       "      <td>0.665166</td>\n",
       "      <td>0.670316</td>\n",
       "      <td>0.645366</td>\n",
       "      <td>0.663303</td>\n",
       "      <td>NaN</td>\n",
       "    </tr>\n",
       "    <tr>\n",
       "      <th>3</th>\n",
       "      <td>0.680580</td>\n",
       "      <td>NaN</td>\n",
       "      <td>0.513266</td>\n",
       "      <td>0.669473</td>\n",
       "      <td>NaN</td>\n",
       "    </tr>\n",
       "    <tr>\n",
       "      <th>4</th>\n",
       "      <td>0.651106</td>\n",
       "      <td>NaN</td>\n",
       "      <td>0.411637</td>\n",
       "      <td>0.644944</td>\n",
       "      <td>NaN</td>\n",
       "    </tr>\n",
       "    <tr>\n",
       "      <th>5</th>\n",
       "      <td>0.579284</td>\n",
       "      <td>NaN</td>\n",
       "      <td>0.459398</td>\n",
       "      <td>0.587315</td>\n",
       "      <td>0.501319</td>\n",
       "    </tr>\n",
       "    <tr>\n",
       "      <th>6</th>\n",
       "      <td>0.646987</td>\n",
       "      <td>NaN</td>\n",
       "      <td>0.514396</td>\n",
       "      <td>0.639798</td>\n",
       "      <td>0.560363</td>\n",
       "    </tr>\n",
       "    <tr>\n",
       "      <th>7</th>\n",
       "      <td>0.644476</td>\n",
       "      <td>NaN</td>\n",
       "      <td>0.480490</td>\n",
       "      <td>0.623143</td>\n",
       "      <td>NaN</td>\n",
       "    </tr>\n",
       "  </tbody>\n",
       "</table>\n",
       "</div>"
      ],
      "text/plain": [
       "type_of   concept  intention  no_lectures  solving question   starter\n",
       "part                                                                 \n",
       "1        0.710884        NaN     0.596246          0.696273       NaN\n",
       "2        0.665166   0.670316     0.645366          0.663303       NaN\n",
       "3        0.680580        NaN     0.513266          0.669473       NaN\n",
       "4        0.651106        NaN     0.411637          0.644944       NaN\n",
       "5        0.579284        NaN     0.459398          0.587315  0.501319\n",
       "6        0.646987        NaN     0.514396          0.639798  0.560363\n",
       "7        0.644476        NaN     0.480490          0.623143       NaN"
      ]
     },
     "execution_count": 83,
     "metadata": {},
     "output_type": "execute_result"
    }
   ],
   "source": [
    "df = df.pivot_table(index = 'part', columns = 'type_of', values =  'right_answers_%', aggfunc='mean')\n",
    "df"
   ]
  },
  {
   "cell_type": "code",
   "execution_count": 85,
   "id": "342bdf18",
   "metadata": {},
   "outputs": [
    {
     "data": {
      "image/png": "[encoded data removed]",
      "text/plain": [
       "<Figure size 1080x720 with 2 Axes>"
      ]
     },
     "metadata": {},
     "output_type": "display_data"
    }
   ],
   "source": [
    "sns.set(rc = {\"figure.figsize\": (15, 10)})\n",
    "ax = sns.heatmap(df[[\"concept\", \"solving question\", \"intention\", \"starter\", \"no_lectures\"]],\n",
    "                 cmap = 'coolwarm',\n",
    "                 square = True,\n",
    "                 annot = True,\n",
    "                 fmt = \".0%\"\n",
    ")\n",
    "plt.title(\"Does lectures attendance improve test results?\")\n",
    "plt.show()"
   ]
  },
  {
   "cell_type": "markdown",
   "id": "2087f726",
   "metadata": {},
   "source": [
    "**Результаты у студентов, посещавших лекции во всех случаях выше, чем у студентов, не посещавших лекции.**"
   ]
  }
 ],
 "metadata": {
  "kernelspec": {
   "display_name": "Python 3 (ipykernel)",
   "language": "python",
   "name": "python3"
  },
  "language_info": {
   "codemirror_mode": {
    "name": "ipython",
    "version": 3
   },
   "file_extension": ".py",
   "mimetype": "text/x-python",
   "name": "python",
   "nbconvert_exporter": "python",
   "pygments_lexer": "ipython3",
   "version": "3.8.10"
  }
 },
 "nbformat": 4,
 "nbformat_minor": 5
}
