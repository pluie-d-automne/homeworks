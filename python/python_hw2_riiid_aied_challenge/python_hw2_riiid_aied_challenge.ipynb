{
 "cells": [
  {
   "cell_type": "code",
   "execution_count": 126,
   "id": "ccfbe7c8",
   "metadata": {},
   "outputs": [],
   "source": [
    "import pandas as pd\n",
    "from matplotlib import pyplot as plt\n",
    "import numpy as np"
   ]
  },
  {
   "cell_type": "markdown",
   "id": "34b4591d",
   "metadata": {},
   "source": [
    "## Первые строки таблиц и значение атрибутов"
   ]
  },
  {
   "cell_type": "code",
   "execution_count": 2,
   "id": "42ddfa20",
   "metadata": {},
   "outputs": [
    {
     "data": {
      "text/html": [
       "<div>\n",
       "<style scoped>\n",
       "    .dataframe tbody tr th:only-of-type {\n",
       "        vertical-align: middle;\n",
       "    }\n",
       "\n",
       "    .dataframe tbody tr th {\n",
       "        vertical-align: top;\n",
       "    }\n",
       "\n",
       "    .dataframe thead th {\n",
       "        text-align: right;\n",
       "    }\n",
       "</style>\n",
       "<table border=\"1\" class=\"dataframe\">\n",
       "  <thead>\n",
       "    <tr style=\"text-align: right;\">\n",
       "      <th></th>\n",
       "      <th>lecture_id</th>\n",
       "      <th>tag</th>\n",
       "      <th>part</th>\n",
       "      <th>type_of</th>\n",
       "    </tr>\n",
       "  </thead>\n",
       "  <tbody>\n",
       "    <tr>\n",
       "      <th>0</th>\n",
       "      <td>89</td>\n",
       "      <td>159</td>\n",
       "      <td>5</td>\n",
       "      <td>concept</td>\n",
       "    </tr>\n",
       "    <tr>\n",
       "      <th>1</th>\n",
       "      <td>100</td>\n",
       "      <td>70</td>\n",
       "      <td>1</td>\n",
       "      <td>concept</td>\n",
       "    </tr>\n",
       "    <tr>\n",
       "      <th>2</th>\n",
       "      <td>185</td>\n",
       "      <td>45</td>\n",
       "      <td>6</td>\n",
       "      <td>concept</td>\n",
       "    </tr>\n",
       "    <tr>\n",
       "      <th>3</th>\n",
       "      <td>192</td>\n",
       "      <td>79</td>\n",
       "      <td>5</td>\n",
       "      <td>solving question</td>\n",
       "    </tr>\n",
       "    <tr>\n",
       "      <th>4</th>\n",
       "      <td>317</td>\n",
       "      <td>156</td>\n",
       "      <td>5</td>\n",
       "      <td>solving question</td>\n",
       "    </tr>\n",
       "  </tbody>\n",
       "</table>\n",
       "</div>"
      ],
      "text/plain": [
       "   lecture_id  tag  part           type_of\n",
       "0          89  159     5           concept\n",
       "1         100   70     1           concept\n",
       "2         185   45     6           concept\n",
       "3         192   79     5  solving question\n",
       "4         317  156     5  solving question"
      ]
     },
     "execution_count": 2,
     "metadata": {},
     "output_type": "execute_result"
    }
   ],
   "source": [
    "lectures = pd.read_csv(\"data/lectures.csv\")\n",
    "lectures.head()"
   ]
  },
  {
   "cell_type": "markdown",
   "id": "802c78a8",
   "metadata": {},
   "source": [
    "* lecture_id: foreign key for the train/test content_id column, when the content type is lecture (1).\n",
    "* tag: one tag codes for the lecture. The meaning of the tags will not be provided, but these codes are sufficient for clustering the lectures together.\n",
    "* part: top level category code for the lecture.\n",
    "* type_of: brief description of the core purpose of the lecture."
   ]
  },
  {
   "cell_type": "code",
   "execution_count": 110,
   "id": "3c27c10a",
   "metadata": {},
   "outputs": [
    {
     "data": {
      "text/html": [
       "<div>\n",
       "<style scoped>\n",
       "    .dataframe tbody tr th:only-of-type {\n",
       "        vertical-align: middle;\n",
       "    }\n",
       "\n",
       "    .dataframe tbody tr th {\n",
       "        vertical-align: top;\n",
       "    }\n",
       "\n",
       "    .dataframe thead th {\n",
       "        text-align: right;\n",
       "    }\n",
       "</style>\n",
       "<table border=\"1\" class=\"dataframe\">\n",
       "  <thead>\n",
       "    <tr style=\"text-align: right;\">\n",
       "      <th></th>\n",
       "      <th>question_id</th>\n",
       "      <th>bundle_id</th>\n",
       "      <th>correct_answer</th>\n",
       "      <th>part</th>\n",
       "      <th>tags</th>\n",
       "    </tr>\n",
       "  </thead>\n",
       "  <tbody>\n",
       "    <tr>\n",
       "      <th>0</th>\n",
       "      <td>0</td>\n",
       "      <td>0</td>\n",
       "      <td>0</td>\n",
       "      <td>1</td>\n",
       "      <td>51 131 162 38</td>\n",
       "    </tr>\n",
       "    <tr>\n",
       "      <th>1</th>\n",
       "      <td>1</td>\n",
       "      <td>1</td>\n",
       "      <td>1</td>\n",
       "      <td>1</td>\n",
       "      <td>131 36 81</td>\n",
       "    </tr>\n",
       "    <tr>\n",
       "      <th>2</th>\n",
       "      <td>2</td>\n",
       "      <td>2</td>\n",
       "      <td>0</td>\n",
       "      <td>1</td>\n",
       "      <td>131 101 162 92</td>\n",
       "    </tr>\n",
       "    <tr>\n",
       "      <th>3</th>\n",
       "      <td>3</td>\n",
       "      <td>3</td>\n",
       "      <td>0</td>\n",
       "      <td>1</td>\n",
       "      <td>131 149 162 29</td>\n",
       "    </tr>\n",
       "    <tr>\n",
       "      <th>4</th>\n",
       "      <td>4</td>\n",
       "      <td>4</td>\n",
       "      <td>3</td>\n",
       "      <td>1</td>\n",
       "      <td>131 5 162 38</td>\n",
       "    </tr>\n",
       "    <tr>\n",
       "      <th>5</th>\n",
       "      <td>5</td>\n",
       "      <td>5</td>\n",
       "      <td>2</td>\n",
       "      <td>1</td>\n",
       "      <td>131 149 162 81</td>\n",
       "    </tr>\n",
       "    <tr>\n",
       "      <th>6</th>\n",
       "      <td>6</td>\n",
       "      <td>6</td>\n",
       "      <td>2</td>\n",
       "      <td>1</td>\n",
       "      <td>10 94 162 92</td>\n",
       "    </tr>\n",
       "    <tr>\n",
       "      <th>7</th>\n",
       "      <td>7</td>\n",
       "      <td>7</td>\n",
       "      <td>0</td>\n",
       "      <td>1</td>\n",
       "      <td>61 110 162 29</td>\n",
       "    </tr>\n",
       "    <tr>\n",
       "      <th>8</th>\n",
       "      <td>8</td>\n",
       "      <td>8</td>\n",
       "      <td>3</td>\n",
       "      <td>1</td>\n",
       "      <td>131 13 162 92</td>\n",
       "    </tr>\n",
       "    <tr>\n",
       "      <th>9</th>\n",
       "      <td>9</td>\n",
       "      <td>9</td>\n",
       "      <td>3</td>\n",
       "      <td>1</td>\n",
       "      <td>10 164 81</td>\n",
       "    </tr>\n",
       "  </tbody>\n",
       "</table>\n",
       "</div>"
      ],
      "text/plain": [
       "   question_id  bundle_id  correct_answer  part            tags\n",
       "0            0          0               0     1   51 131 162 38\n",
       "1            1          1               1     1       131 36 81\n",
       "2            2          2               0     1  131 101 162 92\n",
       "3            3          3               0     1  131 149 162 29\n",
       "4            4          4               3     1    131 5 162 38\n",
       "5            5          5               2     1  131 149 162 81\n",
       "6            6          6               2     1    10 94 162 92\n",
       "7            7          7               0     1   61 110 162 29\n",
       "8            8          8               3     1   131 13 162 92\n",
       "9            9          9               3     1       10 164 81"
      ]
     },
     "execution_count": 110,
     "metadata": {},
     "output_type": "execute_result"
    }
   ],
   "source": [
    "questions = pd.read_csv(\"data/questions.csv\")\n",
    "questions.head(10)"
   ]
  },
  {
   "cell_type": "markdown",
   "id": "f15bd6a8",
   "metadata": {},
   "source": [
    "* question_id: foreign key for the train/test content_id column, when the content type is question (0).\n",
    "* bundle_id: code for which questions are served together.\n",
    "* correct_answer: the answer to the question. Can be compared with the train user_answer column to check if the user was right.\n",
    "* part: the relevant section of the TOEIC test.\n",
    "* tags: one or more detailed tag codes for the question. The meaning of the tags will not be provided, but these codes are sufficient for clustering the questions together."
   ]
  },
  {
   "cell_type": "code",
   "execution_count": 4,
   "id": "25415e59",
   "metadata": {},
   "outputs": [
    {
     "data": {
      "text/html": [
       "<div>\n",
       "<style scoped>\n",
       "    .dataframe tbody tr th:only-of-type {\n",
       "        vertical-align: middle;\n",
       "    }\n",
       "\n",
       "    .dataframe tbody tr th {\n",
       "        vertical-align: top;\n",
       "    }\n",
       "\n",
       "    .dataframe thead th {\n",
       "        text-align: right;\n",
       "    }\n",
       "</style>\n",
       "<table border=\"1\" class=\"dataframe\">\n",
       "  <thead>\n",
       "    <tr style=\"text-align: right;\">\n",
       "      <th></th>\n",
       "      <th>timestamp</th>\n",
       "      <th>user_id</th>\n",
       "      <th>content_id</th>\n",
       "      <th>content_type_id</th>\n",
       "      <th>task_container_id</th>\n",
       "      <th>user_answer</th>\n",
       "      <th>answered_correctly</th>\n",
       "      <th>prior_question_elapsed_time</th>\n",
       "      <th>prior_question_had_explanation</th>\n",
       "    </tr>\n",
       "    <tr>\n",
       "      <th>row_id</th>\n",
       "      <th></th>\n",
       "      <th></th>\n",
       "      <th></th>\n",
       "      <th></th>\n",
       "      <th></th>\n",
       "      <th></th>\n",
       "      <th></th>\n",
       "      <th></th>\n",
       "      <th></th>\n",
       "    </tr>\n",
       "  </thead>\n",
       "  <tbody>\n",
       "    <tr>\n",
       "      <th>0</th>\n",
       "      <td>0</td>\n",
       "      <td>115</td>\n",
       "      <td>5692</td>\n",
       "      <td>0</td>\n",
       "      <td>1</td>\n",
       "      <td>3</td>\n",
       "      <td>1</td>\n",
       "      <td>NaN</td>\n",
       "      <td>NaN</td>\n",
       "    </tr>\n",
       "    <tr>\n",
       "      <th>1</th>\n",
       "      <td>56943</td>\n",
       "      <td>115</td>\n",
       "      <td>5716</td>\n",
       "      <td>0</td>\n",
       "      <td>2</td>\n",
       "      <td>2</td>\n",
       "      <td>1</td>\n",
       "      <td>37000.0</td>\n",
       "      <td>False</td>\n",
       "    </tr>\n",
       "    <tr>\n",
       "      <th>2</th>\n",
       "      <td>118363</td>\n",
       "      <td>115</td>\n",
       "      <td>128</td>\n",
       "      <td>0</td>\n",
       "      <td>0</td>\n",
       "      <td>0</td>\n",
       "      <td>1</td>\n",
       "      <td>55000.0</td>\n",
       "      <td>False</td>\n",
       "    </tr>\n",
       "    <tr>\n",
       "      <th>3</th>\n",
       "      <td>131167</td>\n",
       "      <td>115</td>\n",
       "      <td>7860</td>\n",
       "      <td>0</td>\n",
       "      <td>3</td>\n",
       "      <td>0</td>\n",
       "      <td>1</td>\n",
       "      <td>19000.0</td>\n",
       "      <td>False</td>\n",
       "    </tr>\n",
       "    <tr>\n",
       "      <th>4</th>\n",
       "      <td>137965</td>\n",
       "      <td>115</td>\n",
       "      <td>7922</td>\n",
       "      <td>0</td>\n",
       "      <td>4</td>\n",
       "      <td>1</td>\n",
       "      <td>1</td>\n",
       "      <td>11000.0</td>\n",
       "      <td>False</td>\n",
       "    </tr>\n",
       "  </tbody>\n",
       "</table>\n",
       "</div>"
      ],
      "text/plain": [
       "        timestamp  user_id  content_id  content_type_id  task_container_id  \\\n",
       "row_id                                                                       \n",
       "0               0      115        5692                0                  1   \n",
       "1           56943      115        5716                0                  2   \n",
       "2          118363      115         128                0                  0   \n",
       "3          131167      115        7860                0                  3   \n",
       "4          137965      115        7922                0                  4   \n",
       "\n",
       "        user_answer  answered_correctly  prior_question_elapsed_time  \\\n",
       "row_id                                                                 \n",
       "0                 3                   1                          NaN   \n",
       "1                 2                   1                      37000.0   \n",
       "2                 0                   1                      55000.0   \n",
       "3                 0                   1                      19000.0   \n",
       "4                 1                   1                      11000.0   \n",
       "\n",
       "       prior_question_had_explanation  \n",
       "row_id                                 \n",
       "0                                 NaN  \n",
       "1                               False  \n",
       "2                               False  \n",
       "3                               False  \n",
       "4                               False  "
      ]
     },
     "execution_count": 4,
     "metadata": {},
     "output_type": "execute_result"
    }
   ],
   "source": [
    "train = pd.read_csv(\"data/train.csv\",\n",
    "                    index_col = \"row_id\",\n",
    "                    nrows = 1000)\n",
    "train.head()"
   ]
  },
  {
   "cell_type": "markdown",
   "id": "00264f98",
   "metadata": {},
   "source": [
    "* row_id: (int64) ID code for the row.\n",
    "* timestamp: (int64) the time in milliseconds between this user interaction and the first event completion from that user.\n",
    "* user_id: (int32) ID code for the user.\n",
    "* content_id: (int16) ID code for the user interaction\n",
    "* content_type_id: (int8) 0 if the event was a question being posed to the user, 1 if the event was the user watching a lecture.\n",
    "* task_container_id: (int16) Id code for the batch of questions or lectures. For example, a user might see three questions in a row before seeing the explanations for any of them. Those three would all share a task_container_id.\n",
    "* user_answer: (int8) the user's answer to the question, if any. Read -1 as null, for lectures.\n",
    "* answered_correctly: (int8) if the user responded correctly. Read -1 as null, for lectures.\n",
    "* prior_question_elapsed_time: (float32) The average time in milliseconds it took a user to answer each question in the previous question bundle, ignoring any lectures in between. Is null for a user's first question bundle or lecture. Note that the time is the average time a user took to solve each question in the previous bundle.\n",
    "* prior_question_had_explanation: (bool) Whether or not the user saw an explanation and the correct response(s) after answering the previous question bundle, ignoring any lectures in between. The value is shared across a single question bundle, and is null for a user's first question bundle or lecture. Typically the first several questions a user sees were part of an onboarding diagnostic test where they did not get any feedback."
   ]
  },
  {
   "cell_type": "markdown",
   "id": "8ba796b8",
   "metadata": {},
   "source": [
    "## Таблица train огромна. Посчитаем кол-во строк в ней"
   ]
  },
  {
   "cell_type": "code",
   "execution_count": 5,
   "id": "c71f0f5e",
   "metadata": {},
   "outputs": [
    {
     "name": "stdout",
     "output_type": "stream",
     "text": [
      "Таблица train содержит 101,230,332 строк\n"
     ]
    }
   ],
   "source": [
    "n_rows = 0\n",
    "\n",
    "with pd.read_csv(\"data/train.csv\", index_col = \"row_id\", chunksize = 1000) as reader:\n",
    "    for chunk in reader:\n",
    "        n_rows+=len(chunk)\n",
    "        \n",
    "print(f\"Таблица train содержит {n_rows:,} строк\")"
   ]
  },
  {
   "cell_type": "markdown",
   "id": "c6c1316e",
   "metadata": {},
   "source": [
    "Так как строк очень много, ноутбук не справляется с таким объёмом данных. Придётся собирать статистику так же по кусочкам.\n",
    "* Кол-во правильных и неправильных ответов по пользователям\n",
    "* По вопросам (question_id, bundle_id, part) - соотношение между правильными и не правильными ответами. Очень сложные вопросы.\n",
    "* task_container_id - сложные и не очень\n",
    "* Подсказка на предыдущем вопросе\n",
    "* По тегам соотношение правильных и неправильных\n",
    "* Время на предыдущий вопрос\n",
    "* Есть ли улучшение с ростом timestamp?\n",
    "* Влияние посещения лекций"
   ]
  },
  {
   "cell_type": "markdown",
   "id": "b7279bd1",
   "metadata": {},
   "source": [
    "## Для каждого пользователя посчитаем долю правильных ответов"
   ]
  },
  {
   "cell_type": "code",
   "execution_count": 7,
   "id": "a6615384",
   "metadata": {},
   "outputs": [],
   "source": [
    "answer_counts = pd.DataFrame()\n",
    "with pd.read_csv(\"data/train.csv\", index_col = \"row_id\", chunksize = 10000) as reader:\n",
    "    for chunk in reader:\n",
    "        df = chunk[chunk['content_type_id']==0]\\\n",
    "            .groupby('user_id').agg(right_answers=(\"answered_correctly\",\"sum\"),\n",
    "                                    total_answers=(\"answered_correctly\",\"count\"))\n",
    "        answer_counts = pd.concat([answer_counts, df], axis=0)\n",
    "# Повторно группируем и суммируем по пользователю, так как отдельные пользователи могли попасть в разные чанки        \n",
    "answer_counts = answer_counts.groupby('user_id').agg(right_answers=(\"right_answers\",\"sum\"),\n",
    "                                     total_answers=(\"total_answers\",\"sum\"))"
   ]
  },
  {
   "cell_type": "code",
   "execution_count": 8,
   "id": "ccddb1ea",
   "metadata": {},
   "outputs": [],
   "source": [
    "answer_counts[\"right_answers_%\"] = answer_counts[\"right_answers\"]/answer_counts[\"total_answers\"]"
   ]
  },
  {
   "cell_type": "code",
   "execution_count": 108,
   "id": "4022e0a6",
   "metadata": {},
   "outputs": [
    {
     "data": {
      "image/png": "[encoded data removed]",
      "text/plain": [
       "<Figure size 1152x576 with 1 Axes>"
      ]
     },
     "metadata": {
      "needs_background": "light"
     },
     "output_type": "display_data"
    }
   ],
   "source": [
    "plt.subplots(figsize=(16, 8))\n",
    "plt.xlabel(\"Share of right answers\")\n",
    "plt.ylabel(\"Students\")\n",
    "plt.title(\"Histogram of students performance\")\n",
    "plt.hist(answer_counts[\"right_answers_%\"], bins = 20, color = \"#f34e6e\")\n",
    "plt.show()"
   ]
  },
  {
   "cell_type": "markdown",
   "id": "05115eff",
   "metadata": {},
   "source": [
    "Основная масса студентов (середнячки) отвечает правильно на 50 - 80 % теста. Отличников (больше 80%) не так много."
   ]
  },
  {
   "cell_type": "markdown",
   "id": "e7e87706",
   "metadata": {},
   "source": [
    "## Посмотрим долю правильных ответов по question_id, bundle_id, part и task_container_id. Может быть есть аномально сложные или очень простые вопросы/группы вопросов"
   ]
  },
  {
   "cell_type": "code",
   "execution_count": 161,
   "id": "489a8cf1",
   "metadata": {},
   "outputs": [
    {
     "ename": "ParserError",
     "evalue": "Error tokenizing data. C error: Calling read(nbytes) on source failed. Try engine='python'.",
     "output_type": "error",
     "traceback": [
      "\u001b[0;31m---------------------------------------------------------------------------\u001b[0m",
      "\u001b[0;31mParserError\u001b[0m                               Traceback (most recent call last)",
      "Input \u001b[0;32mIn [161]\u001b[0m, in \u001b[0;36m<cell line: 2>\u001b[0;34m()\u001b[0m\n\u001b[1;32m      1\u001b[0m q_answer_counts \u001b[38;5;241m=\u001b[39m pd\u001b[38;5;241m.\u001b[39mDataFrame()\n\u001b[1;32m      2\u001b[0m \u001b[38;5;28;01mwith\u001b[39;00m pd\u001b[38;5;241m.\u001b[39mread_csv(\u001b[38;5;124m\"\u001b[39m\u001b[38;5;124mdata/train.csv\u001b[39m\u001b[38;5;124m\"\u001b[39m, index_col \u001b[38;5;241m=\u001b[39m \u001b[38;5;124m\"\u001b[39m\u001b[38;5;124mrow_id\u001b[39m\u001b[38;5;124m\"\u001b[39m, chunksize \u001b[38;5;241m=\u001b[39m \u001b[38;5;241m100000\u001b[39m) \u001b[38;5;28;01mas\u001b[39;00m reader:\n\u001b[0;32m----> 3\u001b[0m     \u001b[38;5;28;01mfor\u001b[39;00m chunk \u001b[38;5;129;01min\u001b[39;00m reader:\n\u001b[1;32m      4\u001b[0m         df \u001b[38;5;241m=\u001b[39m chunk[chunk[\u001b[38;5;124m\"\u001b[39m\u001b[38;5;124mcontent_type_id\u001b[39m\u001b[38;5;124m\"\u001b[39m]\u001b[38;5;241m==\u001b[39m\u001b[38;5;241m0\u001b[39m]\\\n\u001b[1;32m      5\u001b[0m                 \u001b[38;5;241m.\u001b[39mgroupby([\u001b[38;5;124m\"\u001b[39m\u001b[38;5;124mcontent_id\u001b[39m\u001b[38;5;124m\"\u001b[39m, \u001b[38;5;124m\"\u001b[39m\u001b[38;5;124mtask_container_id\u001b[39m\u001b[38;5;124m\"\u001b[39m])\\\n\u001b[1;32m      6\u001b[0m                          \u001b[38;5;241m.\u001b[39magg(right_answers\u001b[38;5;241m=\u001b[39m(\u001b[38;5;124m\"\u001b[39m\u001b[38;5;124manswered_correctly\u001b[39m\u001b[38;5;124m\"\u001b[39m,\u001b[38;5;124m\"\u001b[39m\u001b[38;5;124msum\u001b[39m\u001b[38;5;124m\"\u001b[39m)\n\u001b[1;32m      7\u001b[0m                               ,total_answers\u001b[38;5;241m=\u001b[39m(\u001b[38;5;124m\"\u001b[39m\u001b[38;5;124manswered_correctly\u001b[39m\u001b[38;5;124m\"\u001b[39m,\u001b[38;5;124m\"\u001b[39m\u001b[38;5;124mcount\u001b[39m\u001b[38;5;124m\"\u001b[39m))\n\u001b[1;32m      8\u001b[0m         q_answer_counts \u001b[38;5;241m=\u001b[39m pd\u001b[38;5;241m.\u001b[39mconcat([q_answer_counts, df], axis\u001b[38;5;241m=\u001b[39m\u001b[38;5;241m0\u001b[39m)\n",
      "File \u001b[0;32m~/.local/lib/python3.8/site-packages/pandas/io/parsers/readers.py:1187\u001b[0m, in \u001b[0;36mTextFileReader.__next__\u001b[0;34m(self)\u001b[0m\n\u001b[1;32m   1185\u001b[0m \u001b[38;5;28;01mdef\u001b[39;00m \u001b[38;5;21m__next__\u001b[39m(\u001b[38;5;28mself\u001b[39m):\n\u001b[1;32m   1186\u001b[0m     \u001b[38;5;28;01mtry\u001b[39;00m:\n\u001b[0;32m-> 1187\u001b[0m         \u001b[38;5;28;01mreturn\u001b[39;00m \u001b[38;5;28;43mself\u001b[39;49m\u001b[38;5;241;43m.\u001b[39;49m\u001b[43mget_chunk\u001b[49m\u001b[43m(\u001b[49m\u001b[43m)\u001b[49m\n\u001b[1;32m   1188\u001b[0m     \u001b[38;5;28;01mexcept\u001b[39;00m \u001b[38;5;167;01mStopIteration\u001b[39;00m:\n\u001b[1;32m   1189\u001b[0m         \u001b[38;5;28mself\u001b[39m\u001b[38;5;241m.\u001b[39mclose()\n",
      "File \u001b[0;32m~/.local/lib/python3.8/site-packages/pandas/io/parsers/readers.py:1280\u001b[0m, in \u001b[0;36mTextFileReader.get_chunk\u001b[0;34m(self, size)\u001b[0m\n\u001b[1;32m   1278\u001b[0m         \u001b[38;5;28;01mraise\u001b[39;00m \u001b[38;5;167;01mStopIteration\u001b[39;00m\n\u001b[1;32m   1279\u001b[0m     size \u001b[38;5;241m=\u001b[39m \u001b[38;5;28mmin\u001b[39m(size, \u001b[38;5;28mself\u001b[39m\u001b[38;5;241m.\u001b[39mnrows \u001b[38;5;241m-\u001b[39m \u001b[38;5;28mself\u001b[39m\u001b[38;5;241m.\u001b[39m_currow)\n\u001b[0;32m-> 1280\u001b[0m \u001b[38;5;28;01mreturn\u001b[39;00m \u001b[38;5;28;43mself\u001b[39;49m\u001b[38;5;241;43m.\u001b[39;49m\u001b[43mread\u001b[49m\u001b[43m(\u001b[49m\u001b[43mnrows\u001b[49m\u001b[38;5;241;43m=\u001b[39;49m\u001b[43msize\u001b[49m\u001b[43m)\u001b[49m\n",
      "File \u001b[0;32m~/.local/lib/python3.8/site-packages/pandas/io/parsers/readers.py:1250\u001b[0m, in \u001b[0;36mTextFileReader.read\u001b[0;34m(self, nrows)\u001b[0m\n\u001b[1;32m   1248\u001b[0m nrows \u001b[38;5;241m=\u001b[39m validate_integer(\u001b[38;5;124m\"\u001b[39m\u001b[38;5;124mnrows\u001b[39m\u001b[38;5;124m\"\u001b[39m, nrows)\n\u001b[1;32m   1249\u001b[0m \u001b[38;5;28;01mtry\u001b[39;00m:\n\u001b[0;32m-> 1250\u001b[0m     index, columns, col_dict \u001b[38;5;241m=\u001b[39m \u001b[38;5;28;43mself\u001b[39;49m\u001b[38;5;241;43m.\u001b[39;49m\u001b[43m_engine\u001b[49m\u001b[38;5;241;43m.\u001b[39;49m\u001b[43mread\u001b[49m\u001b[43m(\u001b[49m\u001b[43mnrows\u001b[49m\u001b[43m)\u001b[49m\n\u001b[1;32m   1251\u001b[0m \u001b[38;5;28;01mexcept\u001b[39;00m \u001b[38;5;167;01mException\u001b[39;00m:\n\u001b[1;32m   1252\u001b[0m     \u001b[38;5;28mself\u001b[39m\u001b[38;5;241m.\u001b[39mclose()\n",
      "File \u001b[0;32m~/.local/lib/python3.8/site-packages/pandas/io/parsers/c_parser_wrapper.py:225\u001b[0m, in \u001b[0;36mCParserWrapper.read\u001b[0;34m(self, nrows)\u001b[0m\n\u001b[1;32m    223\u001b[0m \u001b[38;5;28;01mtry\u001b[39;00m:\n\u001b[1;32m    224\u001b[0m     \u001b[38;5;28;01mif\u001b[39;00m \u001b[38;5;28mself\u001b[39m\u001b[38;5;241m.\u001b[39mlow_memory:\n\u001b[0;32m--> 225\u001b[0m         chunks \u001b[38;5;241m=\u001b[39m \u001b[38;5;28;43mself\u001b[39;49m\u001b[38;5;241;43m.\u001b[39;49m\u001b[43m_reader\u001b[49m\u001b[38;5;241;43m.\u001b[39;49m\u001b[43mread_low_memory\u001b[49m\u001b[43m(\u001b[49m\u001b[43mnrows\u001b[49m\u001b[43m)\u001b[49m\n\u001b[1;32m    226\u001b[0m         \u001b[38;5;66;03m# destructive to chunks\u001b[39;00m\n\u001b[1;32m    227\u001b[0m         data \u001b[38;5;241m=\u001b[39m _concatenate_chunks(chunks)\n",
      "File \u001b[0;32m~/.local/lib/python3.8/site-packages/pandas/_libs/parsers.pyx:817\u001b[0m, in \u001b[0;36mpandas._libs.parsers.TextReader.read_low_memory\u001b[0;34m()\u001b[0m\n",
      "File \u001b[0;32m~/.local/lib/python3.8/site-packages/pandas/_libs/parsers.pyx:861\u001b[0m, in \u001b[0;36mpandas._libs.parsers.TextReader._read_rows\u001b[0;34m()\u001b[0m\n",
      "File \u001b[0;32m~/.local/lib/python3.8/site-packages/pandas/_libs/parsers.pyx:847\u001b[0m, in \u001b[0;36mpandas._libs.parsers.TextReader._tokenize_rows\u001b[0;34m()\u001b[0m\n",
      "File \u001b[0;32m~/.local/lib/python3.8/site-packages/pandas/_libs/parsers.pyx:1960\u001b[0m, in \u001b[0;36mpandas._libs.parsers.raise_parser_error\u001b[0;34m()\u001b[0m\n",
      "\u001b[0;31mParserError\u001b[0m: Error tokenizing data. C error: Calling read(nbytes) on source failed. Try engine='python'."
     ]
    }
   ],
   "source": [
    "q_answer_counts = pd.DataFrame()\n",
    "with pd.read_csv(\"data/train.csv\", index_col = \"row_id\", chunksize = 100000) as reader:\n",
    "    for chunk in reader:\n",
    "        df = chunk[chunk[\"content_type_id\"]==0]\\\n",
    "                .groupby([\"content_id\", \"task_container_id\"])\\\n",
    "                         .agg(right_answers=(\"answered_correctly\",\"sum\")\n",
    "                              ,total_answers=(\"answered_correctly\",\"count\"))\n",
    "        q_answer_counts = pd.concat([q_answer_counts, df], axis=0\n",
    "                                    \n",
    "# Повторно группируем и суммируем по пользователю, так как отдельные пользователи могли попасть в разные чанки        \n",
    "q_answer_counts = q_answer_counts.groupby([\"content_id\", \"task_container_id\"]).agg(right_answers=(\"right_answers\",\"sum\"),\n",
    "                                     total_answers=(\"total_answers\",\"sum\"))"
   ]
  },
  {
   "cell_type": "code",
   "execution_count": 98,
   "id": "915eab98",
   "metadata": {},
   "outputs": [
    {
     "data": {
      "text/html": [
       "<div>\n",
       "<style scoped>\n",
       "    .dataframe tbody tr th:only-of-type {\n",
       "        vertical-align: middle;\n",
       "    }\n",
       "\n",
       "    .dataframe tbody tr th {\n",
       "        vertical-align: top;\n",
       "    }\n",
       "\n",
       "    .dataframe thead th {\n",
       "        text-align: right;\n",
       "    }\n",
       "</style>\n",
       "<table border=\"1\" class=\"dataframe\">\n",
       "  <thead>\n",
       "    <tr style=\"text-align: right;\">\n",
       "      <th></th>\n",
       "      <th>question_id</th>\n",
       "      <th>right_answers</th>\n",
       "      <th>total_answers</th>\n",
       "      <th>right_answers_%</th>\n",
       "      <th>bundle_id</th>\n",
       "      <th>correct_answer</th>\n",
       "      <th>part</th>\n",
       "      <th>tags</th>\n",
       "    </tr>\n",
       "  </thead>\n",
       "  <tbody>\n",
       "    <tr>\n",
       "      <th>0</th>\n",
       "      <td>0</td>\n",
       "      <td>6266</td>\n",
       "      <td>6903</td>\n",
       "      <td>0.907721</td>\n",
       "      <td>0</td>\n",
       "      <td>0</td>\n",
       "      <td>1</td>\n",
       "      <td>51 131 162 38</td>\n",
       "    </tr>\n",
       "    <tr>\n",
       "      <th>1</th>\n",
       "      <td>1</td>\n",
       "      <td>6589</td>\n",
       "      <td>7398</td>\n",
       "      <td>0.890646</td>\n",
       "      <td>1</td>\n",
       "      <td>1</td>\n",
       "      <td>1</td>\n",
       "      <td>131 36 81</td>\n",
       "    </tr>\n",
       "    <tr>\n",
       "      <th>2</th>\n",
       "      <td>2</td>\n",
       "      <td>24890</td>\n",
       "      <td>44905</td>\n",
       "      <td>0.554281</td>\n",
       "      <td>2</td>\n",
       "      <td>0</td>\n",
       "      <td>1</td>\n",
       "      <td>131 101 162 92</td>\n",
       "    </tr>\n",
       "    <tr>\n",
       "      <th>3</th>\n",
       "      <td>3</td>\n",
       "      <td>17906</td>\n",
       "      <td>22973</td>\n",
       "      <td>0.779437</td>\n",
       "      <td>3</td>\n",
       "      <td>0</td>\n",
       "      <td>1</td>\n",
       "      <td>131 149 162 29</td>\n",
       "    </tr>\n",
       "    <tr>\n",
       "      <th>4</th>\n",
       "      <td>4</td>\n",
       "      <td>19461</td>\n",
       "      <td>31736</td>\n",
       "      <td>0.613215</td>\n",
       "      <td>4</td>\n",
       "      <td>3</td>\n",
       "      <td>1</td>\n",
       "      <td>131 5 162 38</td>\n",
       "    </tr>\n",
       "  </tbody>\n",
       "</table>\n",
       "</div>"
      ],
      "text/plain": [
       "   question_id  right_answers  total_answers  right_answers_%  bundle_id  \\\n",
       "0            0           6266           6903         0.907721          0   \n",
       "1            1           6589           7398         0.890646          1   \n",
       "2            2          24890          44905         0.554281          2   \n",
       "3            3          17906          22973         0.779437          3   \n",
       "4            4          19461          31736         0.613215          4   \n",
       "\n",
       "   correct_answer  part            tags  \n",
       "0               0     1   51 131 162 38  \n",
       "1               1     1       131 36 81  \n",
       "2               0     1  131 101 162 92  \n",
       "3               0     1  131 149 162 29  \n",
       "4               3     1    131 5 162 38  "
      ]
     },
     "execution_count": 98,
     "metadata": {},
     "output_type": "execute_result"
    }
   ],
   "source": [
    "q_answer_counts.reset_index(inplace = True)\n",
    "q_answer_counts.rename(columns = {'content_id': 'question_id'}, inplace = True)\n",
    "q_answer_counts = q_answer_counts.merge(questions,\n",
    "                                      how='left',\n",
    "                                      on='question_id')\n",
    "q_answer_counts.head()"
   ]
  },
  {
   "cell_type": "code",
   "execution_count": 123,
   "id": "b74707cf",
   "metadata": {},
   "outputs": [
    {
     "name": "stdout",
     "output_type": "stream",
     "text": [
      "      right_answers_%\n",
      "part                 \n",
      "5              61.01%\n",
      "4              63.10%\n",
      "7              65.96%\n",
      "6              66.94%\n",
      "3              70.15%\n",
      "2              70.87%\n",
      "1              74.50%\n"
     ]
    }
   ],
   "source": [
    "part_answer_counts = q_answer_counts.groupby(\"part\").agg(right_answers=(\"right_answers\",\"sum\"),\n",
    "                                     total_answers=(\"total_answers\",\"sum\"))\n",
    "part_answer_counts[\"right_answers_%\"] = part_answer_counts[\"right_answers\"]/part_answer_counts[\"total_answers\"]\n",
    "with pd.option_context('display.float_format', '{:,.2%}'.format):\n",
    "    print(part_answer_counts[['right_answers_%']].sort_values(by = 'right_answers_%'))"
   ]
  },
  {
   "cell_type": "markdown",
   "id": "ffcad47d",
   "metadata": {},
   "source": [
    "Судя по данным, получается, что часть 1 даётся студентам проще всего, а часть 5 - сложнее всего.\n",
    "Разные части теста ожидаемо имеют разный уровень сложности. Какие тут могут быть причины:\n",
    "* Каждая часть теста состоит из ряда однотипных вопросов. Характер вопросов при этом отличается (что-то студентам дайтся проще, что-то сложнее). Например, в первых четырёх частях нужно воспринимать информацию на слух, в последних трёх - работа с текстом.\n",
    "* В первой части (лучший средний балл) студент отвечает всего на 6 вопросов (данные с сайта о тесте), а в пятой (худший средний балл) - 30 (студенту может быть сложнее концентрироваться так долго).\n",
    "* Кроме того, на первой части (в начале тестирования) голова ещё \"свеженькая\" и хорошо соображает, к концу теста мозг может уставать и больше ошибаться.\n",
    "\n",
    "\n",
    "https://www.iibc-global.org/english/toeic/test/lr/about/format.html\n",
    "\n",
    "Далее визуализируем, насколько успешно студенты отвечают на вопросы в разных частях теста."
   ]
  },
  {
   "cell_type": "code",
   "execution_count": 124,
   "id": "428465b5",
   "metadata": {},
   "outputs": [],
   "source": [
    "part_q_answer_counts = q_answer_counts.groupby([\"part\", \"question_id\"])\\\n",
    "                                      .agg(right_answers=(\"right_answers\",\"sum\"),\n",
    "                                           total_answers=(\"total_answers\",\"sum\"))\n",
    "part_q_answer_counts[\"right_answers_%\"] = part_q_answer_counts[\"right_answers\"]/part_q_answer_counts[\"total_answers\"]\n",
    "part_q_answer_counts.reset_index(inplace = True)"
   ]
  },
  {
   "cell_type": "code",
   "execution_count": 142,
   "id": "58fc8229",
   "metadata": {},
   "outputs": [
    {
     "name": "stderr",
     "output_type": "stream",
     "text": [
      "No artists with labels found to put in legend.  Note that artists whose label start with an underscore are ignored when legend() is called with no argument.\n"
     ]
    },
    {
     "data": {
      "image/png": "[encoded data removed]",
      "text/plain": [
       "<Figure size 1152x576 with 1 Axes>"
      ]
     },
     "metadata": {
      "needs_background": "light"
     },
     "output_type": "display_data"
    }
   ],
   "source": [
    "fig, ax = plt.subplots(figsize=(16, 8))\n",
    "x = list(part_q_answer_counts['part'])\n",
    "y = [list(part_q_answer_counts[part_q_answer_counts.part==i]['right_answers_%']) for i in range(1,8)]\n",
    "ax.violinplot(y,\n",
    "                  showmeans=False,\n",
    "                  showmedians=True)\n",
    "ax.set_title('Questions difficulty by part')\n",
    "ax.set_xlabel(\"Parts of the test\")\n",
    "ax.set_ylabel(\"Share of proper question answers\")\n",
    "ax.legend()\n",
    "plt.show()"
   ]
  },
  {
   "cell_type": "markdown",
   "id": "8db24d2d",
   "metadata": {},
   "source": [
    "Здесь тоже видно, что разные части теста по-разному даются студентам:\n",
    "* В 3 и 6 группах есть вопросы, на которые никто не смог ответить\n",
    "* Лучше всего студенты справляются с первой частью.\n",
    "\n",
    "Посмотрим, что это за вопросы, на которые никто не ответил"
   ]
  },
  {
   "cell_type": "code",
   "execution_count": 149,
   "id": "63a55dec",
   "metadata": {},
   "outputs": [
    {
     "data": {
      "text/html": [
       "<div>\n",
       "<style scoped>\n",
       "    .dataframe tbody tr th:only-of-type {\n",
       "        vertical-align: middle;\n",
       "    }\n",
       "\n",
       "    .dataframe tbody tr th {\n",
       "        vertical-align: top;\n",
       "    }\n",
       "\n",
       "    .dataframe thead th {\n",
       "        text-align: right;\n",
       "    }\n",
       "</style>\n",
       "<table border=\"1\" class=\"dataframe\">\n",
       "  <thead>\n",
       "    <tr style=\"text-align: right;\">\n",
       "      <th></th>\n",
       "      <th>part</th>\n",
       "      <th>question_id</th>\n",
       "      <th>right_answers</th>\n",
       "      <th>total_answers</th>\n",
       "      <th>right_answers_%</th>\n",
       "    </tr>\n",
       "  </thead>\n",
       "  <tbody>\n",
       "    <tr>\n",
       "      <th>2723</th>\n",
       "      <td>3</td>\n",
       "      <td>1484</td>\n",
       "      <td>0</td>\n",
       "      <td>1</td>\n",
       "      <td>0.0</td>\n",
       "    </tr>\n",
       "    <tr>\n",
       "      <th>2724</th>\n",
       "      <td>3</td>\n",
       "      <td>1485</td>\n",
       "      <td>0</td>\n",
       "      <td>1</td>\n",
       "      <td>0.0</td>\n",
       "    </tr>\n",
       "    <tr>\n",
       "      <th>2725</th>\n",
       "      <td>3</td>\n",
       "      <td>1486</td>\n",
       "      <td>0</td>\n",
       "      <td>1</td>\n",
       "      <td>0.0</td>\n",
       "    </tr>\n",
       "    <tr>\n",
       "      <th>11560</th>\n",
       "      <td>6</td>\n",
       "      <td>10007</td>\n",
       "      <td>0</td>\n",
       "      <td>1</td>\n",
       "      <td>0.0</td>\n",
       "    </tr>\n",
       "  </tbody>\n",
       "</table>\n",
       "</div>"
      ],
      "text/plain": [
       "       part  question_id  right_answers  total_answers  right_answers_%\n",
       "2723      3         1484              0              1              0.0\n",
       "2724      3         1485              0              1              0.0\n",
       "2725      3         1486              0              1              0.0\n",
       "11560     6        10007              0              1              0.0"
      ]
     },
     "execution_count": 149,
     "metadata": {},
     "output_type": "execute_result"
    }
   ],
   "source": [
    "part_q_answer_counts[part_q_answer_counts['right_answers_%']==0]"
   ]
  },
  {
   "cell_type": "markdown",
   "id": "26d2fd33",
   "metadata": {},
   "source": [
    "По этим вопросам было собрано всего одно наблюдение! По таким единичным наблюдениям нельзя судить о степени сложности вопроса, поэтому далее исключим их из выборки.\n",
    "Какое количество накопленных ответов считать достаточным? Посмотрим, что нам скажет метод describe."
   ]
  },
  {
   "cell_type": "code",
   "execution_count": 154,
   "id": "b47682c0",
   "metadata": {},
   "outputs": [
    {
     "data": {
      "text/plain": [
       "count     13523.000000\n",
       "mean       7340.922872\n",
       "std       11455.927774\n",
       "min           1.000000\n",
       "5%          153.000000\n",
       "10%         283.000000\n",
       "15%         913.000000\n",
       "25%        1765.500000\n",
       "50%        4732.000000\n",
       "75%        8556.000000\n",
       "max      213605.000000\n",
       "Name: total_answers, dtype: float64"
      ]
     },
     "execution_count": 154,
     "metadata": {},
     "output_type": "execute_result"
    }
   ],
   "source": [
    "part_q_answer_counts[\"total_answers\"].describe(percentiles=[.05, .1, .15,.25, .5, .75])"
   ]
  },
  {
   "cell_type": "markdown",
   "id": "b79b052d",
   "metadata": {},
   "source": [
    "Чтобы не удалять слшком много вопросов, попробуем оставить только те вопросы, на которые было дано от 150 ответов (отрежем ~5% самых непопулярных вопросов). И посмотрим, как измениться график."
   ]
  },
  {
   "cell_type": "code",
   "execution_count": 155,
   "id": "cf08c2dd",
   "metadata": {},
   "outputs": [],
   "source": [
    "part_q_answer_counts = part_q_answer_counts[part_q_answer_counts[\"total_answers\"]>=150]"
   ]
  },
  {
   "cell_type": "code",
   "execution_count": 156,
   "id": "b4594f36",
   "metadata": {},
   "outputs": [
    {
     "name": "stderr",
     "output_type": "stream",
     "text": [
      "No artists with labels found to put in legend.  Note that artists whose label start with an underscore are ignored when legend() is called with no argument.\n"
     ]
    },
    {
     "data": {
      "image/png": "[encoded data removed]",
      "text/plain": [
       "<Figure size 1152x576 with 1 Axes>"
      ]
     },
     "metadata": {
      "needs_background": "light"
     },
     "output_type": "display_data"
    }
   ],
   "source": [
    "fig, ax = plt.subplots(figsize=(16, 8))\n",
    "x = list(part_q_answer_counts['part'])\n",
    "y = [list(part_q_answer_counts[part_q_answer_counts.part==i]['right_answers_%']) for i in range(1,8)]\n",
    "ax.violinplot(y,\n",
    "                  showmeans=False,\n",
    "                  showmedians=True)\n",
    "ax.set_title('Questions difficulty by part')\n",
    "ax.set_xlabel(\"Parts of the test\")\n",
    "ax.set_ylabel(\"Share of proper question answers\")\n",
    "ax.legend()\n",
    "plt.show()"
   ]
  },
  {
   "cell_type": "markdown",
   "id": "52287ecd",
   "metadata": {},
   "source": [
    "Картинка существенно не изменилась. Первая часть по-прежнему определяется как самая простая, пятая - как самая сложная. Остальные части примерно на одном уровне сложности.\n",
    "Для прогнозирования вероятности правильного ответа можно попробовать использовать фичу части теста одним их двух вариантов и выбрать тот, с которым получается лучший результат:\n",
    "* вариант А - каждой части теста соответствует своя категория\n",
    "* вариант Б - поделить части на 3 категоррии: сложная (часть 5), простая (часть 1) и средние (все остальные)"
   ]
  },
  {
   "cell_type": "code",
   "execution_count": null,
   "id": "c0ce6369",
   "metadata": {},
   "outputs": [],
   "source": [
    "x+3"
   ]
  },
  {
   "cell_type": "code",
   "execution_count": 6,
   "id": "3e8e765f",
   "metadata": {},
   "outputs": [],
   "source": [
    "train_lectures = train[train['content_type_id']==1][['timestamp', 'user_id', 'content_id', 'task_container_id']]\n",
    "train_lectures.rename(columns = {'content_id': 'lecture_id'}, inplace = True)\n",
    "train_lectures = train_lectures.merge(lectures,\n",
    "                                      how='left',\n",
    "                                      on='lecture_id')\n",
    "train_lectures['type_of'] = train_lectures['type_of'].astype('category')"
   ]
  },
  {
   "cell_type": "code",
   "execution_count": 7,
   "id": "e11d5577",
   "metadata": {},
   "outputs": [
    {
     "data": {
      "text/html": [
       "<div>\n",
       "<style scoped>\n",
       "    .dataframe tbody tr th:only-of-type {\n",
       "        vertical-align: middle;\n",
       "    }\n",
       "\n",
       "    .dataframe tbody tr th {\n",
       "        vertical-align: top;\n",
       "    }\n",
       "\n",
       "    .dataframe thead th {\n",
       "        text-align: right;\n",
       "    }\n",
       "</style>\n",
       "<table border=\"1\" class=\"dataframe\">\n",
       "  <thead>\n",
       "    <tr style=\"text-align: right;\">\n",
       "      <th></th>\n",
       "      <th>timestamp</th>\n",
       "      <th>user_id</th>\n",
       "      <th>lecture_id</th>\n",
       "      <th>task_container_id</th>\n",
       "      <th>tag</th>\n",
       "      <th>part</th>\n",
       "      <th>type_of</th>\n",
       "    </tr>\n",
       "  </thead>\n",
       "  <tbody>\n",
       "    <tr>\n",
       "      <th>7</th>\n",
       "      <td>3083871588</td>\n",
       "      <td>12741</td>\n",
       "      <td>20307</td>\n",
       "      <td>33</td>\n",
       "      <td>170</td>\n",
       "      <td>6</td>\n",
       "      <td>concept</td>\n",
       "    </tr>\n",
       "    <tr>\n",
       "      <th>8</th>\n",
       "      <td>3263276452</td>\n",
       "      <td>12741</td>\n",
       "      <td>10688</td>\n",
       "      <td>53</td>\n",
       "      <td>39</td>\n",
       "      <td>7</td>\n",
       "      <td>concept</td>\n",
       "    </tr>\n",
       "    <tr>\n",
       "      <th>9</th>\n",
       "      <td>3268387671</td>\n",
       "      <td>12741</td>\n",
       "      <td>10217</td>\n",
       "      <td>66</td>\n",
       "      <td>19</td>\n",
       "      <td>7</td>\n",
       "      <td>concept</td>\n",
       "    </tr>\n",
       "    <tr>\n",
       "      <th>10</th>\n",
       "      <td>3577136075</td>\n",
       "      <td>12741</td>\n",
       "      <td>3852</td>\n",
       "      <td>67</td>\n",
       "      <td>161</td>\n",
       "      <td>4</td>\n",
       "      <td>solving question</td>\n",
       "    </tr>\n",
       "    <tr>\n",
       "      <th>11</th>\n",
       "      <td>3777499330</td>\n",
       "      <td>12741</td>\n",
       "      <td>18186</td>\n",
       "      <td>88</td>\n",
       "      <td>161</td>\n",
       "      <td>4</td>\n",
       "      <td>concept</td>\n",
       "    </tr>\n",
       "    <tr>\n",
       "      <th>12</th>\n",
       "      <td>4465486358</td>\n",
       "      <td>12741</td>\n",
       "      <td>22792</td>\n",
       "      <td>106</td>\n",
       "      <td>161</td>\n",
       "      <td>4</td>\n",
       "      <td>solving question</td>\n",
       "    </tr>\n",
       "  </tbody>\n",
       "</table>\n",
       "</div>"
      ],
      "text/plain": [
       "     timestamp  user_id  lecture_id  task_container_id  tag  part  \\\n",
       "7   3083871588    12741       20307                 33  170     6   \n",
       "8   3263276452    12741       10688                 53   39     7   \n",
       "9   3268387671    12741       10217                 66   19     7   \n",
       "10  3577136075    12741        3852                 67  161     4   \n",
       "11  3777499330    12741       18186                 88  161     4   \n",
       "12  4465486358    12741       22792                106  161     4   \n",
       "\n",
       "             type_of  \n",
       "7            concept  \n",
       "8            concept  \n",
       "9            concept  \n",
       "10  solving question  \n",
       "11           concept  \n",
       "12  solving question  "
      ]
     },
     "execution_count": 7,
     "metadata": {},
     "output_type": "execute_result"
    }
   ],
   "source": [
    "train_lectures[train_lectures[\"user_id\"]==12741]"
   ]
  },
  {
   "cell_type": "code",
   "execution_count": 10,
   "id": "3f780736",
   "metadata": {},
   "outputs": [
    {
     "name": "stdout",
     "output_type": "stream",
     "text": [
      "<class 'pandas.core.frame.DataFrame'>\n",
      "Int64Index: 18 entries, 0 to 17\n",
      "Data columns (total 7 columns):\n",
      " #   Column             Non-Null Count  Dtype   \n",
      "---  ------             --------------  -----   \n",
      " 0   timestamp          18 non-null     int64   \n",
      " 1   user_id            18 non-null     int64   \n",
      " 2   lecture_id         18 non-null     int64   \n",
      " 3   task_container_id  18 non-null     int64   \n",
      " 4   tag                18 non-null     int64   \n",
      " 5   part               18 non-null     int64   \n",
      " 6   type_of            18 non-null     category\n",
      "dtypes: category(1), int64(6)\n",
      "memory usage: 1.1 KB\n"
     ]
    }
   ],
   "source": [
    "train_lectures.info()"
   ]
  },
  {
   "cell_type": "code",
   "execution_count": 32,
   "id": "b3293961",
   "metadata": {},
   "outputs": [
    {
     "data": {
      "text/html": [
       "<div>\n",
       "<style scoped>\n",
       "    .dataframe tbody tr th:only-of-type {\n",
       "        vertical-align: middle;\n",
       "    }\n",
       "\n",
       "    .dataframe tbody tr th {\n",
       "        vertical-align: top;\n",
       "    }\n",
       "\n",
       "    .dataframe thead th {\n",
       "        text-align: right;\n",
       "    }\n",
       "</style>\n",
       "<table border=\"1\" class=\"dataframe\">\n",
       "  <thead>\n",
       "    <tr style=\"text-align: right;\">\n",
       "      <th></th>\n",
       "      <th>a</th>\n",
       "      <th>b</th>\n",
       "    </tr>\n",
       "    <tr>\n",
       "      <th>part</th>\n",
       "      <th></th>\n",
       "      <th></th>\n",
       "    </tr>\n",
       "  </thead>\n",
       "  <tbody>\n",
       "    <tr>\n",
       "      <th>1</th>\n",
       "      <td>conceptconceptsolving questionsolving question...</td>\n",
       "      <td>54</td>\n",
       "    </tr>\n",
       "    <tr>\n",
       "      <th>2</th>\n",
       "      <td>conceptsolving questionsolving questionconcept...</td>\n",
       "      <td>56</td>\n",
       "    </tr>\n",
       "    <tr>\n",
       "      <th>3</th>\n",
       "      <td>solving questionconceptconceptconceptsolving q...</td>\n",
       "      <td>19</td>\n",
       "    </tr>\n",
       "    <tr>\n",
       "      <th>4</th>\n",
       "      <td>conceptsolving questionsolving questionconcept...</td>\n",
       "      <td>31</td>\n",
       "    </tr>\n",
       "    <tr>\n",
       "      <th>5</th>\n",
       "      <td>conceptsolving questionsolving questionconcept...</td>\n",
       "      <td>143</td>\n",
       "    </tr>\n",
       "    <tr>\n",
       "      <th>6</th>\n",
       "      <td>conceptsolving questionconceptconceptsolving q...</td>\n",
       "      <td>83</td>\n",
       "    </tr>\n",
       "    <tr>\n",
       "      <th>7</th>\n",
       "      <td>conceptconceptsolving questionconceptconceptco...</td>\n",
       "      <td>32</td>\n",
       "    </tr>\n",
       "  </tbody>\n",
       "</table>\n",
       "</div>"
      ],
      "text/plain": [
       "                                                      a    b\n",
       "part                                                        \n",
       "1     conceptconceptsolving questionsolving question...   54\n",
       "2     conceptsolving questionsolving questionconcept...   56\n",
       "3     solving questionconceptconceptconceptsolving q...   19\n",
       "4     conceptsolving questionsolving questionconcept...   31\n",
       "5     conceptsolving questionsolving questionconcept...  143\n",
       "6     conceptsolving questionconceptconceptsolving q...   83\n",
       "7     conceptconceptsolving questionconceptconceptco...   32"
      ]
     },
     "execution_count": 32,
     "metadata": {},
     "output_type": "execute_result"
    }
   ],
   "source": [
    "lectures.groupby(\"part\").agg(a=(\"type_of\",\"sum\"),b=(\"type_of\",\"count\"))"
   ]
  }
 ],
 "metadata": {
  "kernelspec": {
   "display_name": "Python 3 (ipykernel)",
   "language": "python",
   "name": "python3"
  },
  "language_info": {
   "codemirror_mode": {
    "name": "ipython",
    "version": 3
   },
   "file_extension": ".py",
   "mimetype": "text/x-python",
   "name": "python",
   "nbconvert_exporter": "python",
   "pygments_lexer": "ipython3",
   "version": "3.8.10"
  }
 },
 "nbformat": 4,
 "nbformat_minor": 5
}
